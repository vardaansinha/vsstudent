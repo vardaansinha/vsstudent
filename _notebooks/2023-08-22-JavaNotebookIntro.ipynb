{
 "cells": [
  {
   "attachments": {},
   "cell_type": "markdown",
   "metadata": {},
   "source": [
    "---\n",
    "comments: true\n",
    "layout: post\n",
    "title: Starting Java Notebook \n",
    "description: First Java Notebook In Progress\n",
    "type: tangibles\n",
    "courses: { csa: {week: 1} }\n",
    "---"
   ]
  },
  {
   "attachments": {},
   "cell_type": "markdown",
   "metadata": {},
   "source": [
    "**KEY TERMS**:\n",
    "\n",
    "1. CLASS: The class always has to be called in order for the code to be run.\n",
    "\n",
    "2. METHOD: Akin to the CSP procedure which is being called. This is the code being run.\n",
    "\n",
    "3. SIGNATURE: public static void, string[] args\n",
    "\n",
    "4. METHOD CALL: How is the code in question being run?\n",
    "\n"
   ]
  },
  {
   "cell_type": "code",
   "execution_count": 10,
   "metadata": {},
   "outputs": [
    {
     "name": "stdout",
     "output_type": "stream",
     "text": [
      "Welcome to CSA!\n"
     ]
    }
   ],
   "source": [
    "public class HelloStatic {\n",
    "\n",
    "    public static void main(String[] args) {    \n",
    "        System.out.println(\"Welcome to CSA!\");\n",
    "    }\n",
    "}\n",
    "\n",
    "HelloStatic.main(null);   "
   ]
  },
  {
   "cell_type": "code",
   "execution_count": 23,
   "metadata": {},
   "outputs": [
    {
     "name": "stdout",
     "output_type": "stream",
     "text": [
      "Player: LeBron Updated Setter Name\n",
      "Age: 38\n",
      "Player: MJ Updated Setter Name\n",
      "Age: 60\n"
     ]
    }
   ],
   "source": [
    "// defining the public class called Ager\n",
    "public class Ager {\n",
    "    // creating the two instance variables, quite basic (player, age)\n",
    "    private String player;\n",
    "    private String age;\n",
    "\n",
    "    // constructor, initializes the instance variables declared above\n",
    "    public Ager(String initplayer, String initage) {\n",
    "        player = initplayer;\n",
    "        age = initage;\n",
    "    }\n",
    "\n",
    "    // Setter method to change the player's name\n",
    "    public void setPlayer(String newPlayer) {\n",
    "        player = newPlayer;\n",
    "    }\n",
    "\n",
    "    // easy print method, formatting\n",
    "    public void print() {\n",
    "        System.out.println(\"Player: \" + player);\n",
    "        System.out.println(\"Age: \" + age);\n",
    "    }\n",
    "\n",
    "    public static void main(String[] args) {\n",
    "        // creates instance of class\n",
    "        Ager p1 = new Ager(\"LeBron James\", \"38\");\n",
    "\n",
    "        // Using the setter to change the player's name\n",
    "        p1.setPlayer(\"LeBron Updated Setter Name\");\n",
    "        // calling print method\n",
    "        p1.print();\n",
    "\n",
    "        Ager p2 = new Ager(\"Michael Jordan\", \"60\");\n",
    "        \n",
    "        p2.setPlayer(\"MJ Updated Setter Name\");\n",
    "        p2.print();\n",
    "    }\n",
    "}\n",
    "\n",
    "// calls main method in order to get an output\n",
    "Ager.main(null);"
   ]
  },
  {
   "cell_type": "code",
   "execution_count": 28,
   "metadata": {},
   "outputs": [
    {
     "name": "stdout",
     "output_type": "stream",
     "text": [
      "Enter a list of comma-separated whole numbers: High: 5\n",
      "Low: 3\n",
      "Standard Deviation: 0.816496580927726\n"
     ]
    }
   ],
   "source": [
    "import java.util.Arrays; // array ops\n",
    "import java.util.Scanner; // allows for user input\n",
    "\n",
    "// class declaration\n",
    "public class StatsCalculator {\n",
    "\n",
    "    public static void main(String[] args) {\n",
    "        Scanner scanner = new Scanner(System.in); // reads user input\n",
    "\n",
    "        // prompts user for input\n",
    "        System.out.print(\"Enter a list of comma-separated whole numbers: \");\n",
    "        String input = scanner.nextLine(); // reads input as a string\n",
    "\n",
    "        // makes an array of strings --> int array\n",
    "        int[] data = Arrays.stream(input.split(\",\"))\n",
    "                           .mapToInt(Integer::parseInt)\n",
    "                           .toArray();\n",
    "\n",
    "        // finds highest value. if there is no max value then it returns the min value.\n",
    "        System.out.println(\"High: \" + Arrays.stream(data).max().orElse(Integer.MIN_VALUE));\n",
    "        // finds lowest value. if there is no low value it returns the max value.\n",
    "        System.out.println(\"Low: \" + Arrays.stream(data).min().orElse(Integer.MAX_VALUE));\n",
    "        // calculates standard deviation of dataset\n",
    "        System.out.println(\"Standard Deviation: \" + calculateStdDev(data));\n",
    "\n",
    "        scanner.close(); // closes scanner\n",
    "    }\n",
    "\n",
    "    // calculcates std of int array\n",
    "    public static double calculateStdDev(int[] values) {\n",
    "        // mean\n",
    "        double mean = Arrays.stream(values).average().orElse(Double.NaN);\n",
    "        // sum of squared diffs\n",
    "        double squaredDiffSum = Arrays.stream(values).mapToDouble(v -> Math.pow(v - mean, 2)).sum();\n",
    "        // variance --> sqrt (variance) = std\n",
    "        double variance = squaredDiffSum / values.length;\n",
    "        return Math.sqrt(variance); \n",
    "    }\n",
    "}\n",
    "\n",
    "StatsCalculator.main(null);"
   ]
  }
 ],
 "metadata": {
  "kernelspec": {
   "display_name": "Java",
   "language": "java",
   "name": "java"
  },
  "language_info": {
   "codemirror_mode": "java",
   "file_extension": ".jshell",
   "mimetype": "text/x-java-source",
   "name": "java",
   "pygments_lexer": "java",
   "version": "11.0.20+8-post-Ubuntu-1ubuntu120.04"
  }
 },
 "nbformat": 4,
 "nbformat_minor": 2
}
