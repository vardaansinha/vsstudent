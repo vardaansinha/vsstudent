{
 "cells": [
  {
   "attachments": {},
   "cell_type": "markdown",
   "metadata": {},
   "source": [
    "---\n",
    "comments: true\n",
    "layout: post\n",
    "title: Java Notebook\n",
    "description: First Java Notebook.\n",
    "type: hacks\n",
    "---"
   ]
  },
  {
   "attachments": {},
   "cell_type": "markdown",
   "metadata": {},
   "source": [
    "**KEY TERMS**:\n",
    "\n",
    "1. CLASS: The class always has to be called in order for the code to be run.\n",
    "\n",
    "2. METHOD: Akin to the CSP procedure which is being called. This is the code being run.\n",
    "\n",
    "3. SIGNATURE: public static void, string[] args\n",
    "\n",
    "4. METHOD CALL: How is the code in question being run?\n",
    "\n"
   ]
  },
  {
   "cell_type": "code",
   "execution_count": 2,
   "metadata": {
    "vscode": {
     "languageId": "java"
    }
   },
   "outputs": [
    {
     "name": "stdout",
     "output_type": "stream",
     "text": [
      "Welcome to CSA!\n"
     ]
    }
   ],
   "source": [
    "public class HelloStatic {\n",
    "\n",
    "    public static void main(String[] args) {    \n",
    "        System.out.println(\"Welcome to CSA!\");\n",
    "    }\n",
    "}\n",
    "\n",
    "HelloStatic.main(null);   "
   ]
  }
 ],
 "metadata": {
  "kernelspec": {
   "display_name": "Java",
   "language": "java",
   "name": "java"
  },
  "language_info": {
   "codemirror_mode": "java",
   "file_extension": ".jshell",
   "mimetype": "text/x-java-source",
   "name": "Java",
   "pygments_lexer": "java",
   "version": "11.0.20+8-post-Ubuntu-1ubuntu120.04"
  },
  "orig_nbformat": 4
 },
 "nbformat": 4,
 "nbformat_minor": 2
}
