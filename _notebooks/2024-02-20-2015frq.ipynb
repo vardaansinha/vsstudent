{
 "cells": [
  {
   "cell_type": "markdown",
   "metadata": {},
   "source": [
    "---\n",
    "layout: post\n",
    "title: 2015 FRQ Final\n",
    "toc: true\n",
    "comments: true\n",
    "description: \n",
    "courses: { csa: {week: 24} }\n",
    "type: tangibles\n",
    "---"
   ]
  },
  {
   "cell_type": "markdown",
   "metadata": {},
   "source": [
    "**QUESTION 1: ARRAYS/ARRAYLISTS**"
   ]
  },
  {
   "cell_type": "markdown",
   "metadata": {},
   "source": [
    "PART A: Write a static method arraySum that calculates and returns the sum of the entries in a specified one-dimensional array. The following example shows an array arr1 and the value returned by a call to arraySum."
   ]
  },
  {
   "cell_type": "code",
   "execution_count": 3,
   "metadata": {
    "vscode": {
     "languageId": "java"
    }
   },
   "outputs": [
    {
     "name": "stdout",
     "output_type": "stream",
     "text": [
      "Your fantasy team will get: 76 points\n"
     ]
    }
   ],
   "source": [
    "public class Tester {\n",
    "    public static void main(String[] args) {\n",
    "        // Fantasy points for drafted players\n",
    "        int[] arr = {25, 15, 17, 19};\n",
    "\n",
    "        int sum = arraySum(arr);\n",
    "\n",
    "        System.out.println(\"Your fantasy team will get: \" + sum + \" points\");\n",
    "    }\n",
    "}\n",
    "\n",
    "public static int arraySum(int[] arr) {\n",
    "    int sum = 0;\n",
    "    for (int i = 0; i < arr.length; i++) {\n",
    "        sum += arr[i];\n",
    "    }\n",
    "    return sum;\n",
    "\n",
    "}\n",
    "\n",
    "Tester.main(null);"
   ]
  },
  {
   "cell_type": "markdown",
   "metadata": {},
   "source": [
    "PART B: Write a static method rowSums that calculates the sums of each of the rows in a given two-dimensional array and returns these sums in a one-dimensional array. The method has one parameter, a two-dimensional array arr2D of int values. The array is in row-major order: arr2D [r] [c] is the entry at row r and column c. The method returns a one-dimensional array with one entry for each row of arr2D such that each entry is the sum of the corresponding row in arr2D. As a reminder, each row of a two-dimensional array is a one-dimensional array."
   ]
  },
  {
   "cell_type": "code",
   "execution_count": 6,
   "metadata": {
    "vscode": {
     "languageId": "java"
    }
   },
   "outputs": [
    {
     "name": "stdout",
     "output_type": "stream",
     "text": [
      "League Stats:\n",
      "Team 0: 22\n",
      "Team 1: 82\n",
      "Team 2: 32\n"
     ]
    }
   ],
   "source": [
    "public class Main {\n",
    "    public static void main(String[] args) {\n",
    "        int[][] arr2D = {\n",
    "            {5, 7, 5, 5},\n",
    "            {15, 22, 28, 17},\n",
    "            {7, 8, 4, 13}\n",
    "        };\n",
    "\n",
    "        int[] sums = rowSums(arr2D);\n",
    "\n",
    "        System.out.println(\"League Stats:\");\n",
    "        for (int i = 0; i < sums.length; i++) {\n",
    "            System.out.println(\"Team \" + i + \": \" + sums[i]);\n",
    "        }\n",
    "    }\n",
    "}\n",
    "\n",
    "public static int[] rowSums(int[][] arr2D) {\n",
    "    int numRows = arr2D.length;\n",
    "    int[] sums = new int[numRows];\n",
    "\n",
    "    for (int i = 0; i < numRows; i++) {\n",
    "        sums[i] = arraySum(arr2D[i]);\n",
    "    }\n",
    "\n",
    "    return sums;\n",
    "}\n",
    "\n",
    "Main.main(null);"
   ]
  },
  {
   "cell_type": "markdown",
   "metadata": {},
   "source": [
    "PART C: A two-dimensional array is diverse if no two of its rows have entries that sum to the same value. In the following examples, the array mat1 is diverse because each row sum is different, but the array mat2 is not diverse because the first and last rows have the same sum. Write a static method isDiverse that determines whether or not a given two-dimensional array is diverse. The method has one parameter: a two-dimensional array arr2D of int values. The method should return true if all the row sums in the given array are unique; otherwise, it should return false. In the arrays shown above, the call isDiverse (mat1) returns true and the call isDiverse(mat2) returns false.\n",
    "\n"
   ]
  },
  {
   "cell_type": "code",
   "execution_count": 9,
   "metadata": {
    "vscode": {
     "languageId": "java"
    }
   },
   "outputs": [
    {
     "name": "stdout",
     "output_type": "stream",
     "text": [
      "mat1 is diverse: true\n",
      "mat2 is diverse: false\n"
     ]
    }
   ],
   "source": [
    "import java.util.Arrays;\n",
    "\n",
    "public class Main {\n",
    "    public static void main(String[] args) {\n",
    "        // 2d arrays\n",
    "        int[][] mat1 = {\n",
    "            {1, 3, 2},\n",
    "            {4, 3, 1},\n",
    "            {2, 1, 4}\n",
    "        };\n",
    "        \n",
    "        int[][] mat2 = {\n",
    "            {1, 3, 2},\n",
    "            {4, 3, 1},\n",
    "            {1, 3, 2}\n",
    "        };\n",
    "        \n",
    "        // Testing isDiverse method\n",
    "        System.out.println(\"mat1 is diverse: \" + isDiverse(mat1)); // true\n",
    "        System.out.println(\"mat2 is diverse: \" + isDiverse(mat2)); // false\n",
    "    }\n",
    "\n",
    "    // given method from frq\n",
    "    public static boolean isDiverse(int[][] arr2D) {\n",
    "        int[] rowSums = rowSums(arr2D); // calculating sums\n",
    "        \n",
    "        // sorting row sums\n",
    "        Arrays.sort(rowSums);\n",
    "        \n",
    "        // are any row sums equal??\n",
    "        for (int i = 0; i < rowSums.length - 1; i++) {\n",
    "            if (rowSums[i] == rowSums[i + 1]) {\n",
    "                return false; // NOT diverse\n",
    "            }\n",
    "        }\n",
    "        \n",
    "        return true; // IS diverse.\n",
    "    }\n",
    "\n",
    "    // finding the actual sums of each row (FROM PART B)\n",
    "    public static int[] rowSums(int[][] arr2D) {\n",
    "        int numRows = arr2D.length; \n",
    "        int[] sums = new int[numRows];\n",
    "\n",
    "      \n",
    "        for (int i = 0; i < numRows; i++) {\n",
    "            \n",
    "            sums[i] = arraySum(arr2D[i]);\n",
    "        }\n",
    "\n",
    "        return sums; \n",
    "    }\n",
    "\n",
    "    // METHOD FROM PART A\n",
    "    public static int arraySum(int[] arr) {\n",
    "        int sum = 0;\n",
    "        for (int i = 0; i < arr.length; i++) {\n",
    "            sum += arr[i];\n",
    "        }\n",
    "        return sum;\n",
    "    }\n",
    "}\n",
    "\n",
    "\n",
    "Main.main(null);"
   ]
  },
  {
   "cell_type": "markdown",
   "metadata": {},
   "source": [
    "Throughout this FRQ, we had to utilize static methods to perform operations on 1D and 2D Arrays/Array lists. This involved sorting the elements inside of the arrays and computing sums in order to find differences between different rows of multiple arrays. Using iterative loops throughout the FRQs was necessary in order to iterate through the different elements in the arrays, and it made the job quite easy. Once part (a) and part (b) were completed, they needed to be merged into the code for part (c) so that it could be run as a whole program (DiverseArray). "
   ]
  },
  {
   "cell_type": "markdown",
   "metadata": {},
   "source": [
    "To run the code in each of the parts, I treated it as our group's final project - where we had a fantasy basketball simulator. Each of the arrays contained the amount of fantasy points that each player generated on a team, and then many operations could be performed - when checking for diverse arrays, that could be compared to seeing if two teams are going to tie with each other, or when checking for row sums, that could simply be calculating the total number of projected fantasy points a team is going to receive. "
   ]
  },
  {
   "cell_type": "markdown",
   "metadata": {},
   "source": [
    "**QUESTION 2: CLASSES**"
   ]
  },
  {
   "cell_type": "markdown",
   "metadata": {},
   "source": [
    "Write the complete HiddenWord class, including any necessary instance variables, its constructor, and the method, getHint, described above. You may assume that the length of the guess is the same as the length of the hidden word."
   ]
  },
  {
   "cell_type": "code",
   "execution_count": 5,
   "metadata": {
    "vscode": {
     "languageId": "java"
    }
   },
   "outputs": [
    {
     "name": "stdout",
     "output_type": "stream",
     "text": [
      "LETS PLAY THE GAME..\n",
      "GUESS THE HIDDEN WORD. (all caps, 5 letters):\n",
      "Enter your guess: Hint: H****\n",
      "WRONG, TRY AGAIN!\n",
      "Enter your guess: Hint: H*++*\n",
      "WRONG, TRY AGAIN!\n",
      "Enter your guess: Hint: HARPS\n",
      "CONGRATS! You've guessed the word!\n"
     ]
    }
   ],
   "source": [
    "import java.util.Scanner;\n",
    "\n",
    "public class HiddenWord {\n",
    "    private String word;\n",
    "\n",
    "    public HiddenWord(String hWord) {\n",
    "        word = hWord;\n",
    "    }\n",
    "\n",
    "    public String getHint(String guess) {\n",
    "        String hint = \"\";\n",
    "        for (int i = 0; i < guess.length(); i++) {\n",
    "            if (guess.substring(i, i + 1).equals(word.substring(i, i + 1))) {\n",
    "                hint += guess.substring(i, i + 1);\n",
    "            } else if (word.indexOf(guess.substring(i, i + 1)) != -1) {\n",
    "                hint += \"+\";\n",
    "            } else {\n",
    "                hint += \"*\";\n",
    "            }\n",
    "        }\n",
    "        return hint;\n",
    "    }\n",
    "\n",
    "    public static void main(String[] args) {\n",
    "        HiddenWord puzzle = new HiddenWord(\"HARPS\");\n",
    "        Scanner scanner = new Scanner(System.in);\n",
    "\n",
    "        System.out.println(\"LETS PLAY THE GAME..\");\n",
    "        System.out.println(\"GUESS THE HIDDEN WORD. (all caps, 5 letters):\");\n",
    "\n",
    "        boolean guessedCorrectly = false;\n",
    "        while (!guessedCorrectly) {\n",
    "            System.out.print(\"Enter your guess: \");\n",
    "            String guess = scanner.nextLine();\n",
    "\n",
    "            String hint = puzzle.getHint(guess);\n",
    "            System.out.println(\"Hint: \" + hint);\n",
    "\n",
    "            if (hint.equals(puzzle.word)) {\n",
    "                System.out.println(\"CONGRATS! You've guessed the word!\");\n",
    "                guessedCorrectly = true;\n",
    "            } else {\n",
    "                System.out.println(\"WRONG, TRY AGAIN!\");\n",
    "            }\n",
    "        }\n",
    "        scanner.close();\n",
    "    }\n",
    "}\n",
    "\n",
    "HiddenWord.main(null);"
   ]
  },
  {
   "cell_type": "markdown",
   "metadata": {},
   "source": [
    "This FRQ simply involved creating a Java class with all the necessary components - the main method, constructors, instance variables, all encompassing in one class that the FRQ asked to create. The mainly tricky part of the FRQ was to create the conditional statements to produce either an asterisk or a plus sign based on the guess - I struggled a bit with this and had to reference the internet to figure out how to add three conditional statements. "
   ]
  },
  {
   "cell_type": "code",
   "execution_count": null,
   "metadata": {
    "vscode": {
     "languageId": "java"
    }
   },
   "outputs": [],
   "source": [
    "package com.nighthawk.spring_portfolio.nbapredictor.monte_carlo;\n",
    "\n",
    "public class Player {\n",
    "    private String name;\n",
    "    private PlayerStats stats;\n",
    "\n",
    "    // Getters and setters\n",
    "    public String getName() {\n",
    "        return name;\n",
    "    }\n",
    "\n",
    "    public void setName(String name) {\n",
    "        this.name = name;\n",
    "    }\n",
    "\n",
    "    public PlayerStats getStats() {\n",
    "        return stats;\n",
    "    }\n",
    "\n",
    "    public void setStats(PlayerStats stats) {\n",
    "        this.stats = stats;\n",
    "    }\n",
    "}\n"
   ]
  },
  {
   "cell_type": "markdown",
   "metadata": {},
   "source": [
    "Throughout our project, we had a lot of implementations of basic Java classes - the above was one. This was the Player.java file, where we initialized the getters and setters for the player object. The anatomy of the class was simple - it was a public class, with private instance variables, along with setters and getters. "
   ]
  },
  {
   "cell_type": "markdown",
   "metadata": {},
   "source": [
    "**QUESTION 3: 2D ARRAYS**"
   ]
  },
  {
   "cell_type": "markdown",
   "metadata": {},
   "source": [
    "PART A: Write the SparseArray method getValueAt. The method returns the value of the sparse array element at a given row and column in the sparse array. If the list entries contains an entry with the specified row and column, the value associated with the entry is returned. If there is no entry in entries corresponding to the specified row and column, 0 is returned.\n",
    "In the example above, the call sparse.getValueAt(3, 1) would return -9, and sparse.getValueAt(3, 3) would return 0."
   ]
  },
  {
   "cell_type": "code",
   "execution_count": 6,
   "metadata": {
    "vscode": {
     "languageId": "java"
    }
   },
   "outputs": [
    {
     "name": "stdout",
     "output_type": "stream",
     "text": [
      "Value at (1, 1): 5\n",
      "Value at (2, 2): -3\n",
      "Value at (3, 1): -9\n",
      "Value at (3, 3): 0\n"
     ]
    }
   ],
   "source": [
    "import java.util.ArrayList;\n",
    "\n",
    "class SparseArrayEntry {\n",
    "    private int row;\n",
    "    private int col;\n",
    "    private int value;\n",
    "\n",
    "    public SparseArrayEntry(int row, int col, int value) {\n",
    "        this.row = row;\n",
    "        this.col = col;\n",
    "        this.value = value;\n",
    "    }\n",
    "\n",
    "    public int getRow() {\n",
    "        return row;\n",
    "    }\n",
    "\n",
    "    public int getCol() {\n",
    "        return col;\n",
    "    }\n",
    "\n",
    "    public int getValue() {\n",
    "        return value;\n",
    "    }\n",
    "}\n",
    "\n",
    "class SparseArray {\n",
    "    private ArrayList<SparseArrayEntry> entries;\n",
    "\n",
    "    public SparseArray() {\n",
    "        entries = new ArrayList<>();\n",
    "    }\n",
    "\n",
    "    public void addEntry(SparseArrayEntry entry) {\n",
    "        entries.add(entry);\n",
    "    }\n",
    "     \n",
    "    // FRQ method part a, asking for getValueAt\n",
    "    public int getValueAt(int row, int col) {\n",
    "        for (SparseArrayEntry e : entries) {\n",
    "            if (e.getRow() == row && e.getCol() == col) {\n",
    "                return e.getValue();\n",
    "            }\n",
    "        }\n",
    "        return 0;\n",
    "    }\n",
    "}\n",
    "\n",
    "public class Main {\n",
    "    public static void main(String[] args) {\n",
    "        SparseArray sparse = new SparseArray();\n",
    "\n",
    "        // Adding some entries for testing\n",
    "        sparse.addEntry(new SparseArrayEntry(1, 1, 5));\n",
    "        sparse.addEntry(new SparseArrayEntry(2, 2, -3));\n",
    "        sparse.addEntry(new SparseArrayEntry(3, 1, -9));\n",
    "\n",
    "        // Testing the getValueAt method\n",
    "        System.out.println(\"Value at (1, 1): \" + sparse.getValueAt(1, 1)); // Output: 5\n",
    "        System.out.println(\"Value at (2, 2): \" + sparse.getValueAt(2, 2)); // Output: -3\n",
    "        System.out.println(\"Value at (3, 1): \" + sparse.getValueAt(3, 1)); // Output: -9\n",
    "        System.out.println(\"Value at (3, 3): \" + sparse.getValueAt(3, 3)); // Output: 0\n",
    "    }\n",
    "}\n",
    "\n",
    "Main.main(null);"
   ]
  },
  {
   "cell_type": "markdown",
   "metadata": {},
   "source": [
    "PART B: Write the SparseArray method removeColumn. After removing a specified column from a sparsearray:\n",
    "\n",
    "All entries in the list entries with column indexes matching col are removed from the list.\n",
    "\n",
    "All entries in the list entries with column indexes greater than col are replaced by entries with column indexes that are decremented by one (moved one column to the left).\n",
    "\n",
    "The number of columns in the sparse array is adjusted to reflect the column removed."
   ]
  },
  {
   "cell_type": "code",
   "execution_count": 9,
   "metadata": {
    "vscode": {
     "languageId": "java"
    }
   },
   "outputs": [
    {
     "name": "stdout",
     "output_type": "stream",
     "text": [
      "Value at (1, 1): 5\n",
      "Value at (1, 2): 0\n",
      "Value at (2, 2): 0\n",
      "Value at (3, 1): -9\n",
      "Value at (3, 3): 2\n",
      "NumRows: 3\n",
      "NumCols: 2\n"
     ]
    }
   ],
   "source": [
    "import java.util.ArrayList;\n",
    "import java.util.Iterator;\n",
    "\n",
    "class SparseArrayEntry {\n",
    "    private int row;\n",
    "    private int col;\n",
    "    private int value;\n",
    "\n",
    "    public SparseArrayEntry(int row, int col, int value) {\n",
    "        this.row = row;\n",
    "        this.col = col;\n",
    "        this.value = value;\n",
    "    }\n",
    "\n",
    "    public int getRow() {\n",
    "        return row;\n",
    "    }\n",
    "\n",
    "    public int getCol() {\n",
    "        return col;\n",
    "    }\n",
    "\n",
    "    public int getValue() {\n",
    "        return value;\n",
    "    }\n",
    "}\n",
    "\n",
    "class SparseArray {\n",
    "    private ArrayList<SparseArrayEntry> entries;\n",
    "    private int numRows;\n",
    "    private int numCols;\n",
    "\n",
    "    public SparseArray(int numRows, int numCols) {\n",
    "        entries = new ArrayList<>();\n",
    "        this.numRows = numRows;\n",
    "        this.numCols = numCols;\n",
    "    }\n",
    "\n",
    "    public void addEntry(SparseArrayEntry entry) {\n",
    "        entries.add(entry);\n",
    "    }\n",
    "\n",
    "    public void removeColumn(int col) {\n",
    "        Iterator<SparseArrayEntry> iterator = entries.iterator();\n",
    "        while (iterator.hasNext()) {\n",
    "            SparseArrayEntry entry = iterator.next();\n",
    "            if (entry.getCol() == col) {\n",
    "                iterator.remove();\n",
    "            } else if (entry.getCol() > col) {\n",
    "                entry = new SparseArrayEntry(entry.getRow(), entry.getCol() - 1, entry.getValue());\n",
    "            }\n",
    "        }\n",
    "        numCols--; // change the # of columns\n",
    "\n",
    "        \n",
    "    }\n",
    "\n",
    "    public int getValueAt(int row, int col) {\n",
    "        for (SparseArrayEntry e : entries) {\n",
    "            if (e.getRow() == row && e.getCol() == col) {\n",
    "                return e.getValue();\n",
    "            }\n",
    "        }\n",
    "        return 0;\n",
    "    }\n",
    "\n",
    "    public int getNumRows() {\n",
    "        return numRows;\n",
    "    }\n",
    "\n",
    "    public int getNumCols() {\n",
    "        return numCols;\n",
    "    }\n",
    "}\n",
    "\n",
    "public class Main {\n",
    "    public static void main(String[] args) {\n",
    "        SparseArray sparse = new SparseArray(3, 3);\n",
    "\n",
    "        // testing the program\n",
    "        sparse.addEntry(new SparseArrayEntry(1, 1, 5));\n",
    "        sparse.addEntry(new SparseArrayEntry(1, 2, 7));\n",
    "        sparse.addEntry(new SparseArrayEntry(2, 2, -3));\n",
    "        sparse.addEntry(new SparseArrayEntry(3, 1, -9));\n",
    "        sparse.addEntry(new SparseArrayEntry(3, 3, 2));\n",
    "\n",
    "        // REMOVE COLUMN 2\n",
    "        sparse.removeColumn(2);\n",
    "\n",
    "        // Testing the getValueAt method\n",
    "        System.out.println(\"Value at (1, 1): \" + sparse.getValueAt(1, 1)); // Output: 5\n",
    "        System.out.println(\"Value at (1, 2): \" + sparse.getValueAt(1, 2)); // Output: 0 (removed)\n",
    "        System.out.println(\"Value at (2, 2): \" + sparse.getValueAt(2, 2)); // Output: -3\n",
    "        System.out.println(\"Value at (3, 1): \" + sparse.getValueAt(3, 1)); // Output: -9\n",
    "        System.out.println(\"Value at (3, 3): \" + sparse.getValueAt(3, 3)); // Output: 2\n",
    "\n",
    "        System.out.println(\"NumRows: \" + sparse.getNumRows()); // Output: 3\n",
    "        System.out.println(\"NumCols: \" + sparse.getNumCols()); // Output: 2\n",
    "    }\n",
    "}\n",
    "\n",
    "\n",
    "Main.main(null);"
   ]
  },
  {
   "cell_type": "markdown",
   "metadata": {},
   "source": [
    "This FRQ was centered around 2D Arrays. This was definitely the most difficult FRQ of the four, and I am not quite sure if I did it completely correct. "
   ]
  },
  {
   "cell_type": "markdown",
   "metadata": {},
   "source": [
    "Our project did not contain many implementations of 2D arrays, however, they can definitely be implemented. Each row can represent a different team playing in a fantasy league, and teams can be removed, or players can be removed from a team - similar to the column removing function. "
   ]
  },
  {
   "cell_type": "markdown",
   "metadata": {},
   "source": [
    "**QUESTION 4: METHODS AND CONTROL STRUCTURES:**"
   ]
  },
  {
   "cell_type": "markdown",
   "metadata": {},
   "source": [
    "PART A: A number group represents a group of integers defined in some way. It could be empty, or it could contain one or more integers.\n",
    "\n",
    "Write an interface named NumberGroup that represents a group of integers. The interface should have a single contains method that determines if a given integer is in the group. For example, if group1 is of type NumberGroup, and it contains only the two numbers -5 and 3, then group1.contains(-5) would return true, and group1.contains(2) would return false.\n",
    "Write the complete NumberGroup interface. It must have exactly one method."
   ]
  },
  {
   "cell_type": "code",
   "execution_count": 10,
   "metadata": {
    "vscode": {
     "languageId": "java"
    }
   },
   "outputs": [
    {
     "name": "stdout",
     "output_type": "stream",
     "text": [
      "true\n",
      "false\n"
     ]
    }
   ],
   "source": [
    "import java.util.Arrays;\n",
    "import java.util.List;\n",
    "\n",
    "public class Main {\n",
    "    public static void main(String[] args) {\n",
    "        NumberGroup group1 = new IntegerList(Arrays.asList(66, 63));\n",
    "        System.out.println(group1.contains(66)); // true\n",
    "        System.out.println(group1.contains(2));  // false\n",
    "    }\n",
    "\n",
    "    // specific interface it is asking for part a\n",
    "    public interface NumberGroup {\n",
    "        boolean contains(int num);\n",
    "    }\n",
    "\n",
    "    public static class IntegerList implements NumberGroup {\n",
    "        private List<Integer> numbers;\n",
    "\n",
    "        public IntegerList(List<Integer> numbers) {\n",
    "            this.numbers = numbers;\n",
    "        }\n",
    "\n",
    "        @Override\n",
    "        public boolean contains(int num) {\n",
    "            return numbers.contains(num);\n",
    "        }\n",
    "    }\n",
    "}\n",
    "\n",
    "Main.main(null);\n"
   ]
  },
  {
   "cell_type": "markdown",
   "metadata": {},
   "source": [
    "PART B: A range represents a number group that contains all (and only) the integers between a minimum value and a maximum value, inclusive.\n",
    "Write the Range class, which is a NumberGroup. The Range class represents the group of int values that range from a given minimum value up through a given maximum value, inclusive. For example, the declaration\n",
    "\n",
    "NumberGroup range1 = new Range(-3, 2);\n",
    "\n",
    "represents the group of integer values -3, -2, -1, 0, 1, 2.\n",
    "\n",
    "Write the complete Range class. Include all necessary instance variables and methods as well as a constructor that takes two int parameters. The first parameter represents the minimum value, and the second parameter represents the maximum value of the range. You may assume that the minimum is less than or equal to the maximum."
   ]
  },
  {
   "cell_type": "code",
   "execution_count": 11,
   "metadata": {
    "vscode": {
     "languageId": "java"
    }
   },
   "outputs": [
    {
     "name": "stdout",
     "output_type": "stream",
     "text": [
      "true\n",
      "true\n",
      "false\n"
     ]
    }
   ],
   "source": [
    "public class Main {\n",
    "    public static void main(String[] args) {\n",
    "        NumberGroup range1 = new Range(-6, 5);\n",
    "        System.out.println(range1.contains(-3)); // true\n",
    "        System.out.println(range1.contains(0));  // true\n",
    "        System.out.println(range1.contains(7));  // false\n",
    "    }\n",
    "\n",
    "    // from part A\n",
    "    public interface NumberGroup {\n",
    "        boolean contains(int num);\n",
    "    }\n",
    "\n",
    "    public static class Range implements NumberGroup {\n",
    "        // two int parameters min and max as requested in frq part b\n",
    "        private int min;\n",
    "        private int max;\n",
    "\n",
    "        public Range(int min, int max) {\n",
    "            this.min = min;\n",
    "            this.max = max;\n",
    "        }\n",
    "\n",
    "        @Override\n",
    "        public boolean contains(int num) {\n",
    "            return num >= min && num <= max;\n",
    "        }\n",
    "    }\n",
    "}\n",
    "\n",
    "Main.main(null);\n"
   ]
  },
  {
   "cell_type": "markdown",
   "metadata": {},
   "source": [
    "PART C: The MultipleGroups class (not shown) represents a collection of NumberGroup objects and isa NumberGroup. The MultipleGroups class stores the number groups in the instance variable groupList (shown below), which is initialized in the constructor.\n",
    "\n",
    "private List<NumberGroup> groupList;\n",
    "\n",
    "Write the MultipleGroups method contains. The method takes an integer and returns true if and only if the integer is contained in one or more of the number groups in groupList.\n",
    "\n",
    "For example, suppose multiple1 has been declared as an instance of MultipleGroups and consists of the three ranges created by the calls new Range(5, 8), new Range(10, 12), and new Range(1, 6). The following table shows the results of several calls to contains."
   ]
  },
  {
   "cell_type": "code",
   "execution_count": 12,
   "metadata": {
    "vscode": {
     "languageId": "java"
    }
   },
   "outputs": [
    {
     "name": "stdout",
     "output_type": "stream",
     "text": [
      "true\n",
      "false\n",
      "true\n"
     ]
    }
   ],
   "source": [
    "import java.util.ArrayList;\n",
    "import java.util.List;\n",
    "\n",
    "public class Main {\n",
    "    public static void main(String[] args) {\n",
    "        List<NumberGroup> groups = new ArrayList<>();\n",
    "        groups.add(new Range(5, 8));\n",
    "        groups.add(new Range(10, 12));\n",
    "        groups.add(new Range(1, 6));\n",
    "\n",
    "        MultipleGroups multiple1 = new MultipleGroups(groups);\n",
    "        \n",
    "        System.out.println(multiple1.contains(2)); // true\n",
    "        System.out.println(multiple1.contains(9)); // false\n",
    "        System.out.println(multiple1.contains(6)); // true\n",
    "    }\n",
    "\n",
    "    // from part A\n",
    "    public interface NumberGroup {\n",
    "        boolean contains(int num);\n",
    "    }\n",
    "\n",
    "    // from part B\n",
    "    public static class Range implements NumberGroup {\n",
    "        private int min;\n",
    "        private int max;\n",
    "\n",
    "        public Range(int min, int max) {\n",
    "            this.min = min;\n",
    "            this.max = max;\n",
    "        }\n",
    "\n",
    "        @Override\n",
    "        public boolean contains(int num) {\n",
    "            return num >= min && num <= max;\n",
    "        }\n",
    "    }\n",
    "\n",
    "    public static class MultipleGroups implements NumberGroup {\n",
    "        private List<NumberGroup> groupList;\n",
    "\n",
    "        public MultipleGroups(List<NumberGroup> groupList) {\n",
    "            this.groupList = groupList;\n",
    "        }\n",
    "\n",
    "        public boolean contains(int num) {\n",
    "            for (NumberGroup group : groupList) {\n",
    "                if (group.contains(num)) {\n",
    "                    return true;\n",
    "                }\n",
    "            }\n",
    "            return false;\n",
    "        }\n",
    "    }\n",
    "}\n",
    "\n",
    "Main.main(null);"
   ]
  },
  {
   "cell_type": "markdown",
   "metadata": {},
   "source": [
    "Throughout this FRQ, knowledge of methods and control structures were necessary. First of all, through creating the NumberGroup interface, we had to create an interface which represented a group of integers and had a method to check if an integer was in that group. We had to write a \"contains\" method. In the Range class in part b, we had to implement the contains method, and had to use control structures through conditional statements to check whether or not an integer was within the range. Finally, with the MultipleGroups class, which implemented the NumberGroup interface, control structures were used to iterate over each NumberGroup and see if an integer was in any of them. The entire FRQ had a lot to do with implementing interfaces, classes, methods, and control structures in Java. "
   ]
  },
  {
   "cell_type": "markdown",
   "metadata": {},
   "source": [
    "**PROJECT IMPLEMENTATION OF METHODS AND CONTROL STRUCTURES:**"
   ]
  },
  {
   "cell_type": "code",
   "execution_count": null,
   "metadata": {
    "vscode": {
     "languageId": "java"
    }
   },
   "outputs": [],
   "source": [
    "for (int i = 0; i < numberOfSimulations; i++) {\n",
    "    double[] fantasyPoints = simulateFantasyPoints(meanFantasyPoints, standardDeviation);\n",
    "    projectedFantasyPointsA.add(fantasyPoints[0]);\n",
    "    projectedFantasyPointsB.add(fantasyPoints[1]);\n",
    "}"
   ]
  },
  {
   "cell_type": "markdown",
   "metadata": {},
   "source": [
    "The above is just one example of implementation of methods and control structures. It is a control structure for iteration. Furthermore, each iteration calls the method (simulateFantasyPoints) in order to create the simulation and add the projections to the fantasyPoints list. "
   ]
  },
  {
   "cell_type": "markdown",
   "metadata": {},
   "source": [
    "**OVERALL REFLECTION ON FRQS:**"
   ]
  },
  {
   "cell_type": "markdown",
   "metadata": {},
   "source": [
    "I definitely found Questions 3 & 4 the hardest. 2D Arrays and Methods/Control Structures are the two FRQs I need to focus on the most. I had to utilize the scoring guidelines with some internet surfing to understand some of the parts of the FRQs and their solutions, so I will make sure that I work harder to understand these FRQs. However, questions 1 & 2 on ArrayLists and Classes were not as bad, since they were a little less complex. It gave me a good review of some of the Java basics. Furthermore, as per project implementations, there were definitely basic utilizations of arrays, classes, and methods/control structures - however, if we want to store our data in a different way in the backend, we could utilize 2D arrays - with each row representing a different team in a fantasy league or something along those lines. We would need to explore this more and have a more concrete understanding of how to implement 2D arrays in the full-stack to do this. "
   ]
  }
 ],
 "metadata": {
  "kernelspec": {
   "display_name": "Java",
   "language": "java",
   "name": "java"
  },
  "language_info": {
   "codemirror_mode": "java",
   "file_extension": ".jshell",
   "mimetype": "text/x-java-source",
   "name": "Java",
   "pygments_lexer": "java",
   "version": "16.0.1+9-Ubuntu-120.04"
  }
 },
 "nbformat": 4,
 "nbformat_minor": 2
}
