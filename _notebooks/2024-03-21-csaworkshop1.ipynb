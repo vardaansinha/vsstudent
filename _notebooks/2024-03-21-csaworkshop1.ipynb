{
 "cells": [
  {
   "cell_type": "markdown",
   "metadata": {},
   "source": [
    "---\n",
    "layout: post\n",
    "title: CSA Workshop 1 Hacks\n",
    "toc: true\n",
    "comments: true\n",
    "description: \n",
    "courses: { csa: {week: 33} }\n",
    "type: tangibles\n",
    "---"
   ]
  },
  {
   "cell_type": "markdown",
   "metadata": {},
   "source": [
    "<h1>Question 2: Iteration over 2D Arrays (Unit 4)</h1>"
   ]
  },
  {
   "cell_type": "markdown",
   "metadata": {},
   "source": [
    "Situation: You are developing a game where you need to track player scores on a 2D grid representing levels and attempts.\n",
    "\n",
    "(a) Explain the concept of iteration over a 2D array in Java. Provide an example scenario where iterating over a 2D array is useful in a programming task.\n",
    "\n",
    "**When iterating over a 2D array in Java, you traverse through each element of the array using nested loops. One loop will iterate over the rows and the other loop will iterate over the columns of the array. An example scenario where iterating over a 2D array is useful in a programming task is when going through matrix operations (mathematics). When operating over a matrix, you have to go through each element and perform different mathematical operations.**\n",
    "\n"
   ]
  },
  {
   "cell_type": "markdown",
   "metadata": {},
   "source": [
    "(b) Code:\n",
    "\n",
    "You need to implement a method calculateTotalScore that takes a 2D array scores of integers representing player scores and returns the sum of all the elements in the array. Write the method signature and the method implementation. Include comments to explain your code."
   ]
  },
  {
   "cell_type": "code",
   "execution_count": 2,
   "metadata": {
    "vscode": {
     "languageId": "java"
    }
   },
   "outputs": [
    {
     "name": "stdout",
     "output_type": "stream",
     "text": [
      "Total Score: 201\n"
     ]
    }
   ],
   "source": [
    "public class ScoreCalculator {\n",
    "    \n",
    "    // Method to calculate the total score of all players\n",
    "    public static int calculateTotalScore(int[][] scores) {\n",
    "        int totalScore = 0; // Initialize total score\n",
    "        \n",
    "        // Iterate over each row (player)\n",
    "        for (int i = 0; i < scores.length; i++) {\n",
    "            // Iterate over each column (score of a player)\n",
    "            for (int j = 0; j < scores[i].length; j++) {\n",
    "                totalScore += scores[i][j]; // Add the score to the total\n",
    "            }\n",
    "        }\n",
    "        \n",
    "        return totalScore; // Return the total score\n",
    "    }\n",
    "\n",
    "    public static void main(String[] args) {\n",
    "        // array of scores\n",
    "        int[][] scores = {\n",
    "            {10, 20, 30},\n",
    "            {15, 25, 35},\n",
    "            {12, 22, 32}\n",
    "        };\n",
    "        \n",
    "        // total score\n",
    "        int totalScore = calculateTotalScore(scores);\n",
    "        \n",
    "        // print score\n",
    "        System.out.println(\"Total Score: \" + totalScore);\n",
    "    }\n",
    "}\n",
    "\n",
    "ScoreCalculator.main(null);"
   ]
  },
  {
   "cell_type": "markdown",
   "metadata": {},
   "source": [
    "<h1>Question 4: Math Class (Unit 2)</h1>"
   ]
  },
  {
   "cell_type": "markdown",
   "metadata": {},
   "source": [
    "(a) Discuss the purpose and utility of the Math class in Java programming. Provide examples of at least three methods provided by the Math class and explain their usage.\n",
    "\n",
    "**The Math class in Java provides a set of methods for performing math operations. It is a class that has many static methods and constants for common mathematical functions and constants.**\n",
    "\n"
   ]
  },
  {
   "cell_type": "markdown",
   "metadata": {},
   "source": [
    "(b) You need to implement a method calculateSquareRoot that takes a double number as input and returns its square root using the Math class. Write the method signature and the method implementation. Include comments to explain your code."
   ]
  },
  {
   "cell_type": "code",
   "execution_count": 4,
   "metadata": {
    "vscode": {
     "languageId": "java"
    }
   },
   "outputs": [
    {
     "name": "stdout",
     "output_type": "stream",
     "text": [
      "Square root of 25.0 is 5.0\n"
     ]
    }
   ],
   "source": [
    "public class SquareRootCalculator {\n",
    "    \n",
    "    // method\n",
    "    public static double calculateSquareRoot(double number) {\n",
    "        double squareRoot = Math.sqrt(number); // use math.sort\n",
    "        return squareRoot; // return square root\n",
    "    }\n",
    "\n",
    "    public static void main(String[] args) {\n",
    "        double number = 25.0; // using 25\n",
    "        double squareRoot = calculateSquareRoot(number); // calc square root\n",
    "        System.out.println(\"Square root of \" + number + \" is \" + squareRoot); // print\n",
    "    }\n",
    "}\n",
    "\n",
    "SquareRootCalculator.main(null);"
   ]
  },
  {
   "cell_type": "markdown",
   "metadata": {},
   "source": [
    "<h1>Question 5: If, While, Else (Unit 3-4)</h1>"
   ]
  },
  {
   "cell_type": "markdown",
   "metadata": {},
   "source": [
    "(a) Explain the roles and usage of the if statement, while loop, and else statement in Java programming. Provide examples illustrating each.\n",
    "\n",
    "**If statements allow you to execute a block of code only if a specified condition is true.**\n"
   ]
  },
  {
   "cell_type": "code",
   "execution_count": null,
   "metadata": {
    "vscode": {
     "languageId": "java"
    }
   },
   "outputs": [],
   "source": [
    "if (condition) {\n",
    "    // if condition is true -->, executes this code here\n",
    "}\n"
   ]
  },
  {
   "cell_type": "markdown",
   "metadata": {},
   "source": [
    "**While loops are used to keep repeating a certain block of code until a condition is met. It is good for iterative tasks.**"
   ]
  },
  {
   "cell_type": "code",
   "execution_count": null,
   "metadata": {
    "vscode": {
     "languageId": "java"
    }
   },
   "outputs": [],
   "source": [
    "while (condition) {\n",
    "    // until condition is true..\n",
    "}\n"
   ]
  },
  {
   "cell_type": "markdown",
   "metadata": {},
   "source": [
    "**Else statements are used with if statements to ensure that there is a block of code carried out if the conditions of an if statement are not met.**"
   ]
  },
  {
   "cell_type": "code",
   "execution_count": null,
   "metadata": {
    "vscode": {
     "languageId": "java"
    }
   },
   "outputs": [],
   "source": [
    "if (condition) {\n",
    "    // if condition is true..\n",
    "} else {\n",
    "    // if condition is false..\n",
    "}\n"
   ]
  },
  {
   "cell_type": "markdown",
   "metadata": {},
   "source": [
    "(b) You need to implement a method printGradeStatus that takes an integer score as input and prints “Pass” if the score is greater than or equal to 60, and “Fail” otherwise. Write the method signature and the method implementation. Include comments to explain your code.\n",
    "\n"
   ]
  },
  {
   "cell_type": "code",
   "execution_count": 5,
   "metadata": {
    "vscode": {
     "languageId": "java"
    }
   },
   "outputs": [
    {
     "name": "stdout",
     "output_type": "stream",
     "text": [
      "Pass\n",
      "Fail\n",
      "Pass\n"
     ]
    }
   ],
   "source": [
    "public class GradeStatusPrinter {\n",
    "    \n",
    "    // Method to print the grade status based on the score\n",
    "    public static void printGradeStatus(int score) {\n",
    "        if (score >= 60) { // Check if the score is greater than or equal to 60\n",
    "            System.out.println(\"Pass\"); // pass condition\n",
    "        } else {\n",
    "            System.out.println(\"Fail\"); // fail condition\n",
    "        }\n",
    "    }\n",
    "\n",
    "    public static void main(String[] args) {\n",
    "        // Test cases\n",
    "        printGradeStatus(75); \n",
    "        printGradeStatus(45); \n",
    "        printGradeStatus(60); \n",
    "    }\n",
    "}\n",
    "\n",
    "GradeStatusPrinter.main(null);\n"
   ]
  }
 ],
 "metadata": {
  "kernelspec": {
   "display_name": "Java",
   "language": "java",
   "name": "java"
  },
  "language_info": {
   "codemirror_mode": "java",
   "file_extension": ".jshell",
   "mimetype": "text/x-java-source",
   "name": "Java",
   "pygments_lexer": "java",
   "version": "17.0.10+7-Ubuntu-120.04.1"
  }
 },
 "nbformat": 4,
 "nbformat_minor": 2
}
