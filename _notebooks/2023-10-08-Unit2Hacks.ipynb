{
 "cells": [
  {
   "attachments": {},
   "cell_type": "markdown",
   "metadata": {},
   "source": [
    "---\n",
    "toc: true\n",
    "comments: true\n",
    "layout: post\n",
    "title: Unit 2 HACKS\n",
    "type: tangibles\n",
    "courses: { csa: {week: 6} }\n",
    "---"
   ]
  },
  {
   "attachments": {},
   "cell_type": "markdown",
   "metadata": {},
   "source": [
    "<h1>Unit 2 Hacks</h1>"
   ]
  },
  {
   "attachments": {},
   "cell_type": "markdown",
   "metadata": {},
   "source": [
    "<br>\n",
    "\n",
    "<h2>Hack 1</h2>"
   ]
  },
  {
   "attachments": {},
   "cell_type": "markdown",
   "metadata": {},
   "source": [
    "<br>"
   ]
  },
  {
   "cell_type": "code",
   "execution_count": 14,
   "metadata": {},
   "outputs": [
    {
     "name": "stdout",
     "output_type": "stream",
     "text": [
      "Enter an index to get the corresponding ArrayList value: \n"
     ]
    },
    {
     "name": "stdout",
     "output_type": "stream",
     "text": [
      "Element at index 1: 420 -  very good beta..\n"
     ]
    }
   ],
   "source": [
    "import java.util.ArrayList;\n",
    "import java.util.Scanner;\n",
    "\n",
    "public class ArrayListHack1 {\n",
    "    private ArrayList<Integer> list = new ArrayList<>();\n",
    "\n",
    "    // void method to append int value\n",
    "    public void addToArrayList(int value) {\n",
    "        list.add(value);\n",
    "    }\n",
    "\n",
    "    // non-void method to call index from arraylist\n",
    "    public int indexCall(int index) {\n",
    "        if (index >= 0 && index < list.size()) {\n",
    "            return list.get(index);\n",
    "        } else {\n",
    "            return -1; // Return -1 if the index is not in the valid range\n",
    "        }\n",
    "    }\n",
    "\n",
    "    public static void main(String[] args) {\n",
    "        ArrayListHack1 example = new ArrayListHack1();\n",
    "        Scanner scanner = new Scanner(System.in);\n",
    "\n",
    "        // putting in some values to the arraylist :))\n",
    "\n",
    "        example.addToArrayList(419);\n",
    "        example.addToArrayList(420);\n",
    "        example.addToArrayList(421);\n",
    "\n",
    "\n",
    "        System.out.println(\"Enter an index to get the corresponding ArrayList value: \");\n",
    "        int userIndex = scanner.nextInt();\n",
    "\n",
    "        int element = example.indexCall(userIndex);\n",
    "\n",
    "        // using some nice ! operators (NOT) equal to -1 --> return value of -1 signifies that index was anyways out of bound, this is from the non-void method\n",
    "        if (element != -1) {\n",
    "            System.out.println(\"Element at index \" + userIndex + \": \" + element + \" - \" + \" \" + \"very good beta..\");\n",
    "        } else {\n",
    "            System.out.println(\"INVALID INDEX... TRY AGAIN BETA\");\n",
    "        }\n",
    "\n",
    "        scanner.close();\n",
    "    }\n",
    "}\n",
    "\n",
    "ArrayListHack1.main(null);"
   ]
  },
  {
   "attachments": {},
   "cell_type": "markdown",
   "metadata": {},
   "source": [
    "<br>"
   ]
  },
  {
   "attachments": {},
   "cell_type": "markdown",
   "metadata": {},
   "source": [
    "<h2>Hack 2</h2>"
   ]
  },
  {
   "cell_type": "code",
   "execution_count": 1,
   "metadata": {},
   "outputs": [
    {
     "name": "stdout",
     "output_type": "stream",
     "text": [
      "Guess the base value and exponent of a number between 1 and 10 (Hints will be provided):\n",
      "Enter your guess for the base value: \n",
      "Enter your guess for the exponent: \n",
      "Incorrect guess. Hints: \n",
      "Hint 1: The base value is between 1 and 10\n",
      "Hint 2: The exponent is 4\n",
      "Attempts: 1\n",
      "Enter your guess for the base value: \n",
      "Enter your guess for the exponent: \n",
      "Incorrect guess. Hints: \n",
      "Hint 1: The base value is between 1 and 10\n",
      "Hint 2: The exponent is 4\n",
      "Attempts: 2\n",
      "Enter your guess for the base value: \n",
      "Enter your guess for the exponent: \n",
      "Congratulations! You guessed the base value and exponent correctly.\n"
     ]
    }
   ],
   "source": [
    "import java.util.Random;\n",
    "import java.util.Scanner;\n",
    "\n",
    "public class RootsGame {\n",
    "    public static void main(String[] args) {\n",
    "        Scanner scanner = new Scanner(System.in);\n",
    "        Random random = new Random();\n",
    "\n",
    "        int min = 1;\n",
    "        int max = 10;\n",
    "        int baseValue = random.nextInt(max - min + 1) + min; // generates random base\n",
    "        int exponent = random.nextInt(5) + 1; // generates random exponent\n",
    "\n",
    "        System.out.println(\"Guess the base value and exponent of a number between \" + min + \" and \" + max + \" (Hints will be provided):\");\n",
    "         \n",
    "        int attempts = 0;\n",
    "        while (true) {\n",
    "            System.out.println(\"Enter your guess for the BASE value: \");\n",
    "            int baseGuess = scanner.nextInt();\n",
    "\n",
    "            System.out.println(\"Enter your guess for the EXPONENT value: \");\n",
    "            int exponentGuess = scanner.nextInt();\n",
    "\n",
    "            if (baseGuess == baseValue && exponentGuess == exponent) {\n",
    "                System.out.println(\"Congratulations! You guessed the base value and exponent correctly.\");\n",
    "                break;\n",
    "            } else {\n",
    "                attempts++;\n",
    "                System.out.println(\"Incorrect guess. Hints: \");\n",
    "                // hint 1 is kinda messed, just gives the same hint everytime, not sure how this can be enhanced though.\n",
    "                System.out.println(\"Hint 1: The base value is between \" + min + \" and \" + max);\n",
    "                System.out.println(\"Hint 2: The exponent is \" + exponent);\n",
    "                // updates attempts integer variable which was initialized to be = 0\n",
    "                System.out.println(\"Attempts: \" + attempts);\n",
    "            }\n",
    "        }\n",
    "\n",
    "        scanner.close();\n",
    "    }\n",
    "}\n",
    "\n",
    "RootsGame.main(null);"
   ]
  },
  {
   "attachments": {},
   "cell_type": "markdown",
   "metadata": {},
   "source": [
    "There are some things I could possibly improve on for this hack:\n",
    "\n",
    "1. Make it so that the hints change, not the same hint every time (at least for hint 1)\n",
    "\n",
    "2. Make it so that the user's inputs are being outputted so that anyone else can also see what someone guessed."
   ]
  },
  {
   "attachments": {},
   "cell_type": "markdown",
   "metadata": {},
   "source": [
    "<br>"
   ]
  },
  {
   "attachments": {},
   "cell_type": "markdown",
   "metadata": {},
   "source": [
    "<h2>Hack 3</h2>"
   ]
  },
  {
   "cell_type": "code",
   "execution_count": 5,
   "metadata": {},
   "outputs": [
    {
     "name": "stdout",
     "output_type": "stream",
     "text": [
      "Enter the data type (int, boolean, string, double): \n",
      "String Value: Theo <3\n"
     ]
    }
   ],
   "source": [
    "import java.util.Scanner;\n",
    "\n",
    "public class AccessClass {\n",
    "    private int intValue;\n",
    "    private boolean boolValue;\n",
    "    private String stringValue;\n",
    "    private double doubleValue;\n",
    "\n",
    "    public AccessClass(int intValue, boolean boolValue, String stringValue, double doubleValue) {\n",
    "        this.intValue = intValue;\n",
    "        this.boolValue = boolValue;\n",
    "        this.stringValue = stringValue;\n",
    "        this.doubleValue = doubleValue;\n",
    "    }\n",
    "\n",
    "\n",
    "    public static void main(String[] args) {\n",
    "        // initializes a sample object as asked for by the hack \n",
    "        AccessClass myObject = new AccessClass(420, false, \"Theo <3\", 3.141592653589);\n",
    "        Scanner scanner = new Scanner(System.in);\n",
    "\n",
    "\n",
    "        // allows the user to select a certain data type and output the corresponding object from the different types of data\n",
    "        System.out.println(\"Enter the data type (int, boolean, string, double): \");\n",
    "        String dataType = scanner.nextLine();\n",
    "\n",
    "        // all the switch cases defined here for each data type, simply printing\n",
    "        \n",
    "        switch (dataType.toLowerCase()) {\n",
    "            case \"int\":\n",
    "                System.out.println(\"Int Value: \" + myObject.intValue);\n",
    "                break;\n",
    "            case \"boolean\":\n",
    "                System.out.println(\"Boolean Value: \" + myObject.boolValue);\n",
    "                break;\n",
    "            case \"string\":\n",
    "                System.out.println(\"String Value: \" + myObject.stringValue);\n",
    "                break;\n",
    "            case \"double\":\n",
    "                System.out.println(\"Double Value: \" + myObject.doubleValue);\n",
    "                break;\n",
    "            default:\n",
    "                System.out.println(\"Unsupported data type.\");\n",
    "        }\n",
    "\n",
    "        scanner.close();\n",
    "    }\n",
    "}\n",
    "\n",
    "AccessClass.main(null);\n"
   ]
  },
  {
   "attachments": {},
   "cell_type": "markdown",
   "metadata": {},
   "source": [
    "NOTE: For this hack, there is probably a way for me to shorten the entire switch case code into 1-2 lines that adapts itself based on the user input, but I just chose not to for now since this way was easier to think of."
   ]
  },
  {
   "attachments": {},
   "cell_type": "markdown",
   "metadata": {},
   "source": [
    "<br>"
   ]
  },
  {
   "attachments": {},
   "cell_type": "markdown",
   "metadata": {},
   "source": [
    "<h2>Hack 4</h2>"
   ]
  },
  {
   "cell_type": "code",
   "execution_count": 11,
   "metadata": {},
   "outputs": [
    {
     "name": "stdout",
     "output_type": "stream",
     "text": [
      "First Name: Theo\n",
      "Last Name: Huntalas\n"
     ]
    }
   ],
   "source": [
    "public class PersonName {\n",
    "    private String fullName;\n",
    "\n",
    "    public PersonName(String fullName) {\n",
    "        this.fullName = fullName;\n",
    "    }\n",
    "\n",
    "    public String getFirstName() {\n",
    "        StringBuilder firstName = new StringBuilder();\n",
    "        // for loop, i++ is jus starting at index 0 and increasing the index until it reaches a space\n",
    "        for (int i = 0; i < fullName.length(); i++) {\n",
    "            char c = fullName.charAt(i);\n",
    "            if (c == ' ') {\n",
    "                // this makes it so that the for loop iteration stops when it reaches a space, which would logically be the space between first and last name\n",
    "                break; \n",
    "            }\n",
    "            firstName.append(c);\n",
    "        }\n",
    "        return firstName.toString();\n",
    "    }\n",
    "     \n",
    "    // this is just a cut paste of the first name code, does the exact same thing\n",
    "    public String getLastName() {\n",
    "        StringBuilder lastName = new StringBuilder();\n",
    "        boolean foundSpace = false;\n",
    "        for (int i = 0; i < fullName.length(); i++) {\n",
    "            char c = fullName.charAt(i);\n",
    "            if (foundSpace) {\n",
    "                lastName.append(c);\n",
    "            }\n",
    "            if (c == ' ') {\n",
    "                foundSpace = true;\n",
    "            }\n",
    "        }\n",
    "        return lastName.toString();\n",
    "    }\n",
    "\n",
    "    public static void main(String[] args) {\n",
    "        // sample bf name to show working capabilities\n",
    "        PersonName person = new PersonName(\"Theo Huntalas\");\n",
    "\n",
    "        String firstName = person.getFirstName();\n",
    "        String lastName = person.getLastName();\n",
    "\n",
    "        System.out.println(\"First Name: \" + firstName);\n",
    "        System.out.println(\"Last Name: \" + lastName);\n",
    "    }\n",
    "}\n",
    "\n",
    "PersonName.main(null);\n"
   ]
  },
  {
   "attachments": {},
   "cell_type": "markdown",
   "metadata": {},
   "source": [
    "<br>\n",
    "<h2>Hack Reflection</h2>"
   ]
  },
  {
   "attachments": {},
   "cell_type": "markdown",
   "metadata": {},
   "source": [
    "Overall, I thought the hacks were pretty good for helping solidify the Unit 2 content from the lesson. I felt that the second hack was easily the hardest one, simply because it was difficult to get the random part of it working properly. "
   ]
  }
 ],
 "metadata": {
  "kernelspec": {
   "display_name": "Java",
   "language": "java",
   "name": "java"
  },
  "language_info": {
   "codemirror_mode": "java",
   "file_extension": ".jshell",
   "mimetype": "text/x-java-source",
   "name": "java",
   "pygments_lexer": "java",
   "version": "11.0.20+8-post-Ubuntu-1ubuntu120.04"
  },
  "orig_nbformat": 4
 },
 "nbformat": 4,
 "nbformat_minor": 2
}
