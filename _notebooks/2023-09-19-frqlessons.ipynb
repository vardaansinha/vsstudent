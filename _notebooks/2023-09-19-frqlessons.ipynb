{
 "cells": [
  {
   "attachments": {},
   "cell_type": "markdown",
   "metadata": {},
   "source": [
    "---\n",
    "toc: true\n",
    "comments: true\n",
    "layout: post\n",
    "title: FRQ Lessons Arrays and ArrayLists\n",
    "type: tangibles\n",
    "courses: { csa: {week: 4} }\n",
    "---"
   ]
  },
  {
   "attachments": {},
   "cell_type": "markdown",
   "metadata": {},
   "source": [
    "**Topics Covered**:\n",
    "\n",
    "\n",
    "*Traversing*: Traversal is when each element in an array or array list is accessed. This is mainly done through for and while loops so that elements are iterated through sequentially.\n",
    "\n",
    "<br>\n",
    "<br>\n",
    "<br>\n",
    "\n",
    "\n",
    "\n",
    "*Parameters*: There are variables that are passed into methods. For arrays and array lists, methods often have parameters that specify which array the passage should be performed upon.\n",
    "\n",
    "<br>\n",
    "<br>\n",
    "<br>\n",
    "\n",
    "*Algorithms*: Algorithms are the general overview of how operations are performed to manipulate or search through arrays.\n",
    "\n",
    "<br>\n",
    "<br>\n",
    "<br>\n",
    "\n",
    "*Array Declaration*: The data type in the array and the size of array is defined. In AP CSA, Java utilizes 'int[] myArray;' to declare. In the example, this would be an array with integer values.\n",
    "\n",
    "<br>\n",
    "<br>\n",
    "<br>\n",
    "\n",
    "*Extraneous*: These are extraneous elements that are not a part of the array/array list.\n",
    "\n",
    "<br>\n",
    "<br>\n",
    "<br>\n"
   ]
  },
  {
   "attachments": {},
   "cell_type": "markdown",
   "metadata": {},
   "source": [
    "**Differences between Arrays and ArrayLists**:\n",
    "\n",
    "<br>\n",
    "\n",
    "**Size**\n",
    "\n",
    "Arrays have a fixed size, while ArrayLists are resizable. They accommodate however many elements are needed.\n",
    "\n",
    "<br>\n",
    "<br>\n",
    "<br>\n",
    "\n",
    "\n",
    "**Containing Data Type**\n",
    "\n",
    "Arrays can hold only one type of data inside of them while ArrayLists can have a mix of different types of data objects.\n",
    "\n",
    "<br>\n",
    "<br>\n",
    "<br>\n",
    "\n",
    "**Performance**\n",
    "\n",
    "Arrays are more memory-efficient because they don't have the capability to dynamically re-size themselves like ArrayLists do.\n",
    "\n",
    "<br>\n",
    "<br>\n",
    "<br>\n"
   ]
  },
  {
   "attachments": {},
   "cell_type": "markdown",
   "metadata": {},
   "source": [
    "**Common Questions**:\n",
    "<br>\n",
    "<br>\n",
    "<br>\n",
    "\n",
    "**Array Initialization and Manipulation**:\n",
    "\n",
    "- Initializing arrays with specific sizes\n",
    "- Traversing arrays using loops\n",
    "- Searching for elements within arrays\n",
    "\n",
    "<br>\n",
    "<br>\n",
    "<br>\n",
    "\n",
    "**ArrayList Algorithms**:\n",
    "\n",
    "- Implementing searching algorithms within arrays or ArrayLists\n",
    "- Creating custom functions to perform certain tasks on ArrayLists\n",
    "\n",
    "<br>\n",
    "<br>\n",
    "<br>\n",
    "\n",
    "**Array and ArrayList Traversal**:\n",
    "\n",
    "- Iterating through an array to perform specific operations on elements within the array or ArrayList\n",
    "- Creating conditional statements within the code to process certain new elements or go through existing elements in the arrays\n"
   ]
  },
  {
   "attachments": {},
   "cell_type": "markdown",
   "metadata": {},
   "source": [
    "**Past AP Exam FRQs: 2023 FRQ #3**"
   ]
  },
  {
   "cell_type": "code",
   "execution_count": null,
   "metadata": {
    "vscode": {
     "languageId": "java"
    }
   },
   "outputs": [],
   "source": [
    "public class WeatherData\n",
    "{\n",
    "    private ArrayList<Double> temperatures;\n",
    "\n",
    "    public void cleanData(double lower, double upper);\n",
    "\n",
    "    public int longestHeatWave(double threshold);\n",
    "}"
   ]
  },
  {
   "attachments": {},
   "cell_type": "markdown",
   "metadata": {},
   "source": [
    "**Part (a) Question:**\n",
    "\n",
    "Write the cleanData method, which modifies the temperatures instance variable by removing all values that are less than the lower parameter and all values that are greater than the upper parameter. The order of the remaining values in temperatures must be maintained. \n",
    "\n",
    "Finish the cleanData method."
   ]
  },
  {
   "attachments": {},
   "cell_type": "markdown",
   "metadata": {},
   "source": [
    "**My attempt at part (a):**"
   ]
  },
  {
   "cell_type": "code",
   "execution_count": null,
   "metadata": {
    "vscode": {
     "languageId": "java"
    }
   },
   "outputs": [],
   "source": [
    "public void cleanData(double lower, double upper)\n",
    "{\n",
    "    for (int i = temperatures.size() - 1;)\n",
    "    {\n",
    "        double temp = temperatures.get(i);\n",
    "        if (temp < lower || temp > upper)\n",
    "        {\n",
    "            temperatures.remove(i);\n",
    "        }\n",
    "    }\n",
    "}"
   ]
  },
  {
   "attachments": {},
   "cell_type": "markdown",
   "metadata": {},
   "source": [
    "**Correct answer for part (a)**:\n",
    "\n"
   ]
  },
  {
   "cell_type": "code",
   "execution_count": null,
   "metadata": {
    "vscode": {
     "languageId": "java"
    }
   },
   "outputs": [],
   "source": [
    "public void cleanData(double lower, double upper)\n",
    "{\n",
    "    // Iterate through the 'temperatures' ArrayList in reverse order to safely remove elements\n",
    "    for (int i = temperatures.size() - 1; i >= 0; i--)\n",
    "    {\n",
    "        // Get the temperature at the current index\n",
    "        double temp = temperatures.get(i);\n",
    "        \n",
    "        // Check if the temperature is outside the specified range [lower, upper]\n",
    "        if (temp < lower || temp > upper)\n",
    "        {\n",
    "            // If the temperature is outside the range, remove it from the ArrayList\n",
    "            temperatures.remove(i);\n",
    "        }\n",
    "    }\n",
    "}\n"
   ]
  },
  {
   "attachments": {},
   "cell_type": "markdown",
   "metadata": {},
   "source": [
    "**Reflection on part (a):**\n",
    "\n",
    "\n",
    "I was very close to getting the correct answer, except I made an error when formulating the for loop.\n",
    "\n",
    "In my answer, there is no loop condition specified within the parenthetical. \n",
    "\n",
    "This is not following what the question is asking for. I need to have the for loop continue for as long as 'i' is greater than or equal to 0, while the 'i--' part means that 'i' is decreasing by one as each consecutive iteration goes on.\n",
    "\n",
    "Next time, I need to make sure that my loop is effective in going through the iterations of the elements in the array."
   ]
  },
  {
   "attachments": {},
   "cell_type": "markdown",
   "metadata": {},
   "source": [
    "**Part (b) Question:**\n",
    "\n",
    "Write the longestHeatWave method, which returns the length of the longest heat wave found in the temperatures instance variable. A heat wave is a sequence of two more consecutive days with a daily high temperature greater than the parameter threshold. The temperatures instance variable is guaranteed to contain at least one heat wave based on the threshold parameter. \n",
    "\n",
    "Complete method longestHeatWave."
   ]
  },
  {
   "attachments": {},
   "cell_type": "markdown",
   "metadata": {},
   "source": [
    "**My attempt at part (b):**"
   ]
  },
  {
   "cell_type": "code",
   "execution_count": null,
   "metadata": {
    "vscode": {
     "languageId": "java"
    }
   },
   "outputs": [],
   "source": [
    "public int longestHeatWave(double threshold)\n",
    "{\n",
    "    int waveLength = 0;\n",
    "    int maxWaveLength = 0;\n",
    "\n",
    "    for (double temp : temperatures)\n",
    "    {\n",
    "        if (temp > threshold)\n",
    "        {\n",
    "            waveLength++;\n",
    "            if (waveLength > maxWaveLength)\n",
    "            {\n",
    "                maxWaveLength = waveLength;\n",
    "                return maxWaveLength;\n",
    "            }\n",
    "\n",
    "        }\n",
    "    }\n",
    "}"
   ]
  },
  {
   "attachments": {},
   "cell_type": "markdown",
   "metadata": {},
   "source": [
    "**Correct answer for part (b):**"
   ]
  },
  {
   "cell_type": "code",
   "execution_count": null,
   "metadata": {
    "vscode": {
     "languageId": "java"
    }
   },
   "outputs": [],
   "source": [
    "public int longestHeatWave(double threshold) {\n",
    "    // Initialize variables to keep track of the current heat wave length and the maximum heat wave length.\n",
    "    int waveLength = 0; // Current heat wave length.\n",
    "    int maxWaveLength = 0; // Maximum heat wave length observed so far.\n",
    "\n",
    "    // Loop through the array of temperatures.\n",
    "    for (double temp : temperatures) {\n",
    "        // Check if the current temperature is above the specified threshold.\n",
    "        if (temp > threshold) {\n",
    "            // If it is, increment the current heat wave length.\n",
    "            waveLength++;\n",
    "            \n",
    "            // Check if the current heat wave length is greater than the maximum observed so far.\n",
    "            if (waveLength > maxWaveLength) {\n",
    "                // If it is, update the maximum heat wave length.\n",
    "                maxWaveLength = waveLength;\n",
    "            }\n",
    "        } else {\n",
    "            // If the current temperature is not above the threshold, reset the heat wave length to zero.\n",
    "            waveLength = 0;\n",
    "        }\n",
    "    }\n",
    "    \n",
    "    // Return the maximum heat wave length observed in the array.\n",
    "    return maxWaveLength;\n",
    "}\n"
   ]
  },
  {
   "attachments": {},
   "cell_type": "markdown",
   "metadata": {},
   "source": [
    "**Reflection on part (b):**\n",
    "\n",
    "I messed up on this one, since I immediately returned the wavelength. This would only return the length of the first heat wave that is encountered in the array, but this is not the objective.\n",
    "\n",
    "I had to correctly iterate through all the objects in the array and then find and return the length of the longest heat wave amongst the objects. Next time, I need to make sure that my code is doing exactly what the question is asking for."
   ]
  },
  {
   "attachments": {},
   "cell_type": "markdown",
   "metadata": {},
   "source": [
    "**Overall Reflection**:\n",
    "\n",
    "Based on the scoring criteria, I likely would've received a 6/9 on this FRQ. There are a lot of learnings, with my primary weakness with this type of FRQ being with the loops completing the tasks that the question are asking for. \n",
    "\n",
    "The scoring criteria is below.\n",
    "\n",
    "![image](https://raw.githubusercontent.com/vardaansinha/vsstudent/main/image2.png)\n",
    "![image](https://raw.githubusercontent.com/vardaansinha/vsstudent/main/image.png)\n"
   ]
  },
  {
   "attachments": {},
   "cell_type": "markdown",
   "metadata": {},
   "source": [
    "<br>\n",
    "<br>\n",
    "<br>\n",
    "\n",
    "**Highlighting Related Concepts**"
   ]
  },
  {
   "attachments": {},
   "cell_type": "markdown",
   "metadata": {},
   "source": [
    "<br>\n",
    "\n",
    "**Adding Data to Arrays**"
   ]
  },
  {
   "cell_type": "code",
   "execution_count": 7,
   "metadata": {
    "vscode": {
     "languageId": "java"
    }
   },
   "outputs": [
    {
     "name": "stdout",
     "output_type": "stream",
     "text": [
      "Updated Array: 1 10 3 "
     ]
    }
   ],
   "source": [
    "public class ArrayExample {\n",
    "    public static void main(String[] args) {\n",
    "        int[] array = new int[3];\n",
    "        \n",
    "        // Adding data to the array\n",
    "        array[0] = 1;\n",
    "        array[1] = 2;\n",
    "        array[2] = 3;\n",
    "        \n",
    "        // Changing data at a specific index\n",
    "        array[1] = 10;\n",
    "\n",
    "        // Displaying the updated array\n",
    "        System.out.print(\"Updated Array: \");\n",
    "        for (int num : array) {\n",
    "            System.out.print(num + \" \");\n",
    "        }\n",
    "    }\n",
    "}\n",
    "\n",
    "ArrayExample.main(null);\n"
   ]
  },
  {
   "attachments": {},
   "cell_type": "markdown",
   "metadata": {},
   "source": [
    "<br>\n",
    "\n",
    "**Displaying Array/ArrayList by columns, as well as by rows horizontally**\n"
   ]
  },
  {
   "cell_type": "code",
   "execution_count": 8,
   "metadata": {
    "vscode": {
     "languageId": "java"
    }
   },
   "outputs": [
    {
     "name": "stdout",
     "output_type": "stream",
     "text": [
      "Array Displayed by Columns:\n",
      "1 4 7 \n",
      "2 5 8 \n",
      "3 6 9 \n"
     ]
    }
   ],
   "source": [
    "public class ArrayDisplay {\n",
    "    public static void main(String[] args) {\n",
    "        int[][] matrix = { {1, 2, 3}, {4, 5, 6}, {7, 8, 9} };\n",
    "\n",
    "        // column display type\n",
    "        System.out.println(\"Array Displayed by Columns:\");\n",
    "        for (int col = 0; col < matrix[0].length; col++) {\n",
    "            for (int row = 0; row < matrix.length; row++) {\n",
    "                System.out.print(matrix[row][col] + \" \");\n",
    "            }\n",
    "            System.out.println(); // lets print\n",
    "        }\n",
    "    }\n",
    "}\n",
    "\n",
    "ArrayDisplay.main(null);"
   ]
  },
  {
   "attachments": {},
   "cell_type": "markdown",
   "metadata": {},
   "source": [
    "<br>\n",
    "\n",
    "**Additional Resources to Research about Arrays & ArrayLists**\n",
    "\n",
    "\n",
    "Oracle Documentation: https://docs.oracle.com/javase/tutorial/\n",
    "\n",
    "<br>\n",
    "<br>\n",
    "\n",
    "CodingBat Java: https://codingbat.com/java\n",
    "\n",
    "<br>\n",
    "<br>\n",
    "\n",
    "AP CSA CED: https://apcentral.collegeboard.org/courses/ap-computer-science-a"
   ]
  }
 ],
 "metadata": {
  "kernelspec": {
   "display_name": "Java",
   "language": "java",
   "name": "java"
  },
  "language_info": {
   "codemirror_mode": "java",
   "file_extension": ".jshell",
   "mimetype": "text/x-java-source",
   "name": "Java",
   "pygments_lexer": "java",
   "version": "11.0.20+8-post-Ubuntu-1ubuntu120.04"
  },
  "orig_nbformat": 4
 },
 "nbformat": 4,
 "nbformat_minor": 2
}
