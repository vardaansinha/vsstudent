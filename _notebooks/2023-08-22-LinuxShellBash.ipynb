{
 "cells": [
  {
   "attachments": {},
   "cell_type": "markdown",
   "metadata": {},
   "source": [
    "---\n",
    "comments: true\n",
    "layout: post\n",
    "title: Linux Shell and Bash\n",
    "description: The key understandings of Linux shell and bash.\n",
    "type: hacks\n",
    "---"
   ]
  },
  {
   "cell_type": "code",
   "execution_count": 2,
   "metadata": {},
   "outputs": [
    {
     "name": "stdout",
     "output_type": "stream",
     "text": [
      "Python Version:\n",
      "Python 3.9.12\n"
     ]
    }
   ],
   "source": [
    "%%script bash\n",
    "\n",
    "if command -v python &> /dev/null\n",
    "then\n",
    "    echo \"Python Version:\"\n",
    "    python --version\n",
    "else\n",
    "    echo \"Python is not installed.\"\n",
    "fi"
   ]
  },
  {
   "cell_type": "code",
   "execution_count": 1,
   "metadata": {},
   "outputs": [
    {
     "name": "stdout",
     "output_type": "stream",
     "text": [
      "Java Version\n",
      "openjdk 11.0.20 2023-07-18\n",
      "OpenJDK Runtime Environment (build 11.0.20+8-post-Ubuntu-1ubuntu120.04)\n",
      "OpenJDK 64-Bit Server VM (build 11.0.20+8-post-Ubuntu-1ubuntu120.04, mixed mode, sharing)\n"
     ]
    }
   ],
   "source": [
    "%%script bash\n",
    "\n",
    "if command -v python &> /dev/null\n",
    "then\n",
    "    echo \"Java Version\"\n",
    "    java --version\n",
    "else\n",
    "    echo \"Java is not installed.\"\n",
    "fi "
   ]
  },
  {
   "cell_type": "code",
   "execution_count": 3,
   "metadata": {},
   "outputs": [
    {
     "name": "stdout",
     "output_type": "stream",
     "text": [
      "Jupyter Core Packages\n",
      "Selected Jupyter core packages...\n",
      "IPython          : 8.2.0\n",
      "ipykernel        : 6.9.1\n",
      "ipywidgets       : 7.6.5\n",
      "jupyter_client   : 6.1.12\n",
      "jupyter_core     : 4.9.2\n",
      "jupyter_server   : 1.13.5\n",
      "jupyterlab       : 3.3.2\n",
      "nbclient         : 0.5.13\n",
      "nbconvert        : 6.4.4\n",
      "nbformat         : 5.3.0\n",
      "notebook         : 6.4.8\n",
      "qtconsole        : 5.3.0\n",
      "traitlets        : 5.1.1\n"
     ]
    }
   ],
   "source": [
    "%%script bash\n",
    "\n",
    "if command -v python &> /dev/null\n",
    "then\n",
    "    echo \"Jupyter Core Packages:\"\n",
    "    jupyter --version\n",
    "else\n",
    "    echo \"Jupyter is not installed.\"\n",
    "fi "
   ]
  },
  {
   "attachments": {},
   "cell_type": "markdown",
   "metadata": {},
   "source": [
    "**FREQUENTLY USED LINUX COMMANDS**:\n",
    "\n",
    "1. cd\n",
    "  - cd stands for \"change directory\"\n",
    "  - This is often used via WSL to switch between repositories and directories within repositories to access different files\n",
    "\n",
    "2. ls\n",
    "  - ls is Linux's primary listing method\n",
    "  - Through ls (and it's many additional parameter extensions) you can list the files in a particular directory\n",
    "  - You can add certain parameters after ls to show hidden files or certain types of file extensions\n",
    "\n",
    "3. cat\n",
    "  - This is more often going to be used when working in the AWS environment\n",
    "  - The command is used to gather the full body of a file and display it in a terminal rather than having to go into a text editor to view it\n",
    "\n",
    "4. sudo\n",
    "  - More than a command, this can be considered a precursor to all the commands you run on Linux when you are a primary editor\n",
    "  - sudo denotes giving yourself root permissions to perform certain actions on your system which a standard user is unable to\n",
    "\n",
    "5. mkdir and touch\n",
    "  - If you need to make a new directory inside of a repository - mkdir is utilized\n",
    "  - If you want to create a new file, you can utilize the touch command inside of the repository you wish to create a file in"
   ]
  },
  {
   "attachments": {},
   "cell_type": "markdown",
   "metadata": {},
   "source": [
    "**Updating a Repository** (note: This is not going to work in this notebook because of the location that this file is in, but it can be used via WSL)"
   ]
  },
  {
   "cell_type": "code",
   "execution_count": null,
   "metadata": {},
   "outputs": [],
   "source": [
    "%%bash\n",
    "\n",
    "cd /your/gh/repository\n",
    "\n",
    "git pull origin master\n",
    "\n",
    "echo \"Job complete.\""
   ]
  },
  {
   "attachments": {},
   "cell_type": "markdown",
   "metadata": {},
   "source": [
    "**SIMPLE BASH SCRIPT TO LOOP THROUGH THE DIRECTORY AND CHECK FOR CERTAIN FILE EXTENSIONS.**"
   ]
  },
  {
   "cell_type": "code",
   "execution_count": 28,
   "metadata": {},
   "outputs": [
    {
     "name": "stdout",
     "output_type": "stream",
     "text": [
      "Files with .ipynb extension:\n",
      "./2023-08-22-LinuxShellBash.ipynb\n",
      "\n",
      "Files with .csv extension:\n",
      "\n",
      "Files with .jpg extension:\n",
      "\n",
      "Files with .pdf extension:\n",
      "./jimmyjohn.pdf\n",
      "\n"
     ]
    }
   ],
   "source": [
    "%%bash\n",
    "\n",
    "# Checks for certain file extensions (some may be found, some not :))\n",
    "file_extensions=(\"ipynb\" \"csv\" \"jpg\" \"pdf\")\n",
    "\n",
    "# No directory specified - SOO, it will check through the local directory (the notebooks folder in this case.)\n",
    "for extension in \"${file_extensions[@]}\"; do\n",
    "    echo \"Files with .$extension extension:\"\n",
    "    find . -type f -name \"*.$extension\"\n",
    "    echo\n",
    "done"
   ]
  },
  {
   "attachments": {},
   "cell_type": "markdown",
   "metadata": {},
   "source": [
    "**The above script was partially inspired by something that I have done while competing in cybersecurity competitions.**\n",
    "\n",
    "There are often many insecure file types in a certain business environment, and when competing on a Linux box, I have written scripts to check for these certain file types to search across an entire system. Searching manually takes too much time and is not at all effective, which is why this excerpt of a shellscript is very useful."
   ]
  }
 ],
 "metadata": {
  "kernelspec": {
   "display_name": "base",
   "language": "python",
   "name": "python3"
  },
  "language_info": {
   "codemirror_mode": {
    "name": "ipython",
    "version": 3
   },
   "file_extension": ".py",
   "mimetype": "text/x-python",
   "name": "python",
   "nbconvert_exporter": "python",
   "pygments_lexer": "ipython3",
   "version": "3.9.12"
  },
  "orig_nbformat": 4
 },
 "nbformat": 4,
 "nbformat_minor": 2
}
