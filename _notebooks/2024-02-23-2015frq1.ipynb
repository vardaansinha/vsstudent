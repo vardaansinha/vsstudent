{
 "cells": [
  {
   "cell_type": "markdown",
   "metadata": {},
   "source": [
    "---\n",
    "layout: post\n",
    "title: 2015 FRQ Final QUESTION 1\n",
    "toc: true\n",
    "comments: true\n",
    "description: \n",
    "courses: { csa: {week: 31} }\n",
    "type: tangibles\n",
    "---"
   ]
  },
  {
   "cell_type": "markdown",
   "metadata": {},
   "source": [
    "**QUESTION 1: ARRAYS/ARRAYLISTS**"
   ]
  },
  {
   "cell_type": "markdown",
   "metadata": {},
   "source": [
    "PART A: Write a static method arraySum that calculates and returns the sum of the entries in a specified one-dimensional array. The following example shows an array arr1 and the value returned by a call to arraySum."
   ]
  },
  {
   "cell_type": "code",
   "execution_count": 1,
   "metadata": {},
   "outputs": [
    {
     "name": "stdout",
     "output_type": "stream",
     "text": [
      "Your fantasy team will get: 76 points\n"
     ]
    }
   ],
   "source": [
    "public class Tester {\n",
    "    public static void main(String[] args) {\n",
    "        // Fantasy points for drafted players\n",
    "        int[] arr = {25, 15, 17, 19};\n",
    "\n",
    "        int sum = arraySum(arr);\n",
    "\n",
    "        System.out.println(\"Your fantasy team will get: \" + sum + \" points\");\n",
    "    }\n",
    "}\n",
    "\n",
    "public static int arraySum(int[] arr) {\n",
    "    int sum = 0;\n",
    "    for (int i = 0; i < arr.length; i++) {\n",
    "        sum += arr[i];\n",
    "    }\n",
    "    return sum;\n",
    "\n",
    "}\n",
    "\n",
    "Tester.main(null);"
   ]
  },
  {
   "cell_type": "markdown",
   "metadata": {},
   "source": [
    "PART B: Write a static method rowSums that calculates the sums of each of the rows in a given two-dimensional array and returns these sums in a one-dimensional array. The method has one parameter, a two-dimensional array arr2D of int values. The array is in row-major order: arr2D [r] [c] is the entry at row r and column c. The method returns a one-dimensional array with one entry for each row of arr2D such that each entry is the sum of the corresponding row in arr2D. As a reminder, each row of a two-dimensional array is a one-dimensional array."
   ]
  },
  {
   "cell_type": "code",
   "execution_count": 2,
   "metadata": {},
   "outputs": [
    {
     "name": "stdout",
     "output_type": "stream",
     "text": [
      "League Stats:\n",
      "Team 0: 22\n",
      "Team 1: 82\n",
      "Team 2: 32\n"
     ]
    }
   ],
   "source": [
    "public class Main {\n",
    "    public static void main(String[] args) {\n",
    "        int[][] arr2D = {\n",
    "            {5, 7, 5, 5},\n",
    "            {15, 22, 28, 17},\n",
    "            {7, 8, 4, 13}\n",
    "        };\n",
    "\n",
    "        int[] sums = rowSums(arr2D);\n",
    "\n",
    "        System.out.println(\"League Stats:\");\n",
    "        for (int i = 0; i < sums.length; i++) {\n",
    "            System.out.println(\"Team \" + i + \": \" + sums[i]);\n",
    "        }\n",
    "    }\n",
    "}\n",
    "\n",
    "public static int[] rowSums(int[][] arr2D) {\n",
    "    int numRows = arr2D.length;\n",
    "    int[] sums = new int[numRows];\n",
    "\n",
    "    for (int i = 0; i < numRows; i++) {\n",
    "        sums[i] = arraySum(arr2D[i]);\n",
    "    }\n",
    "\n",
    "    return sums;\n",
    "}\n",
    "\n",
    "Main.main(null);"
   ]
  },
  {
   "cell_type": "markdown",
   "metadata": {},
   "source": [
    "PART C: A two-dimensional array is diverse if no two of its rows have entries that sum to the same value. In the following examples, the array mat1 is diverse because each row sum is different, but the array mat2 is not diverse because the first and last rows have the same sum. Write a static method isDiverse that determines whether or not a given two-dimensional array is diverse. The method has one parameter: a two-dimensional array arr2D of int values. The method should return true if all the row sums in the given array are unique; otherwise, it should return false. In the arrays shown above, the call isDiverse (mat1) returns true and the call isDiverse(mat2) returns false.\n",
    "\n"
   ]
  },
  {
   "cell_type": "code",
   "execution_count": 3,
   "metadata": {},
   "outputs": [
    {
     "name": "stdout",
     "output_type": "stream",
     "text": [
      "mat1 is diverse: true\n",
      "mat2 is diverse: false\n"
     ]
    }
   ],
   "source": [
    "import java.util.Arrays;\n",
    "\n",
    "public class Main {\n",
    "    public static void main(String[] args) {\n",
    "        // 2d arrays\n",
    "        int[][] mat1 = {\n",
    "            {1, 3, 2},\n",
    "            {4, 3, 1},\n",
    "            {2, 1, 4}\n",
    "        };\n",
    "        \n",
    "        int[][] mat2 = {\n",
    "            {1, 3, 2},\n",
    "            {4, 3, 1},\n",
    "            {1, 3, 2}\n",
    "        };\n",
    "        \n",
    "        // Testing isDiverse method\n",
    "        System.out.println(\"mat1 is diverse: \" + isDiverse(mat1)); // true\n",
    "        System.out.println(\"mat2 is diverse: \" + isDiverse(mat2)); // false\n",
    "    }\n",
    "\n",
    "    // given method from frq\n",
    "    public static boolean isDiverse(int[][] arr2D) {\n",
    "        int[] rowSums = rowSums(arr2D); // calculating sums\n",
    "        \n",
    "        // sorting row sums\n",
    "        Arrays.sort(rowSums);\n",
    "        \n",
    "        // are any row sums equal??\n",
    "        for (int i = 0; i < rowSums.length - 1; i++) {\n",
    "            if (rowSums[i] == rowSums[i + 1]) {\n",
    "                return false; // NOT diverse\n",
    "            }\n",
    "        }\n",
    "        \n",
    "        return true; // IS diverse.\n",
    "    }\n",
    "\n",
    "    // finding the actual sums of each row (FROM PART B)\n",
    "    public static int[] rowSums(int[][] arr2D) {\n",
    "        int numRows = arr2D.length; \n",
    "        int[] sums = new int[numRows];\n",
    "\n",
    "      \n",
    "        for (int i = 0; i < numRows; i++) {\n",
    "            \n",
    "            sums[i] = arraySum(arr2D[i]);\n",
    "        }\n",
    "\n",
    "        return sums; \n",
    "    }\n",
    "\n",
    "    // METHOD FROM PART A\n",
    "    public static int arraySum(int[] arr) {\n",
    "        int sum = 0;\n",
    "        for (int i = 0; i < arr.length; i++) {\n",
    "            sum += arr[i];\n",
    "        }\n",
    "        return sum;\n",
    "    }\n",
    "}\n",
    "\n",
    "\n",
    "Main.main(null);"
   ]
  },
  {
   "cell_type": "markdown",
   "metadata": {},
   "source": [
    "Throughout this FRQ, we had to utilize static methods to perform operations on 1D and 2D Arrays/Array lists. This involved sorting the elements inside of the arrays and computing sums in order to find differences between different rows of multiple arrays. Using iterative loops throughout the FRQs was necessary in order to iterate through the different elements in the arrays, and it made the job quite easy. Once part (a) and part (b) were completed, they needed to be merged into the code for part (c) so that it could be run as a whole program (DiverseArray). "
   ]
  },
  {
   "cell_type": "markdown",
   "metadata": {},
   "source": [
    "To run the code in each of the parts, I treated it as our group's final project - where we had a fantasy basketball simulator. Each of the arrays contained the amount of fantasy points that each player generated on a team, and then many operations could be performed - when checking for diverse arrays, that could be compared to seeing if two teams are going to tie with each other, or when checking for row sums, that could simply be calculating the total number of projected fantasy points a team is going to receive. "
   ]
  }
 ],
 "metadata": {
  "kernelspec": {
   "display_name": "Java",
   "language": "java",
   "name": "java"
  },
  "language_info": {
   "codemirror_mode": "java",
   "file_extension": ".jshell",
   "mimetype": "text/x-java-source",
   "name": "java",
   "pygments_lexer": "java",
   "version": "16.0.1+9-Ubuntu-120.04"
  }
 },
 "nbformat": 4,
 "nbformat_minor": 2
}
