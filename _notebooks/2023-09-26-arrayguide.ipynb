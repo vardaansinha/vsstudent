{
 "cells": [
  {
   "attachments": {},
   "cell_type": "markdown",
   "metadata": {},
   "source": [
    "---\n",
    "toc: true\n",
    "comments: true\n",
    "layout: post\n",
    "title: CSA Guide to Arrays and ArrayLists\n",
    "type: tangibles\n",
    "courses: { csa: {week: 5} }\n",
    "---"
   ]
  },
  {
   "attachments": {},
   "cell_type": "markdown",
   "metadata": {},
   "source": [
    "**TOPIC 6.1**\n",
    "<br>\n",
    "<br>\n",
    "\n",
    "Main Idea: Creating 1D arrays is an important component of the exam, as are accessing array objects and being able to manipulate elements in ArrayLists."
   ]
  },
  {
   "attachments": {},
   "cell_type": "markdown",
   "metadata": {},
   "source": [
    "<br>\n",
    "\n",
    "<h1>Important Vocabulary</h1>\n",
    "\n",
    "<br>\n",
    "\n",
    "**Constructors**: These are used to initialize arrays. \n",
    "\n",
    "<br>\n",
    "\n",
    "**Primitive Data**: This is data that includes basic types like int, boolean, and double. There is no object creation involved and the actual value is copied when passed as an argument in the program.\n",
    "\n",
    "<br>\n",
    "\n",
    "**Object-Referenced Data**: This is data that includes class types which are defined by the programmer. This is a lot slower since the data is not directly stored.\n",
    "\n",
    "<br>\n",
    "\n"
   ]
  },
  {
   "attachments": {},
   "cell_type": "markdown",
   "metadata": {},
   "source": [
    "<br>\n",
    "\n",
    "**Creating an Array**"
   ]
  },
  {
   "cell_type": "code",
   "execution_count": 2,
   "metadata": {
    "vscode": {
     "languageId": "java"
    }
   },
   "outputs": [
    {
     "name": "stdout",
     "output_type": "stream",
     "text": [
      "Element at index 0: 10\n",
      "Element at index 1: 20\n",
      "Element at index 2: 30\n",
      "Element at index 3: 40\n",
      "Element at index 4: 50\n"
     ]
    }
   ],
   "source": [
    "public class Main {\n",
    "    public static void main(String[] args) {\n",
    "        // Creates an array of integers with 5 elements with a constructor\n",
    "        int[] array = new int[5];\n",
    "\n",
    "        // assigns values for the array, starts at index '0'\n",
    "        array[0] = 10;\n",
    "        array[1] = 20;\n",
    "        array[2] = 30;\n",
    "        array[3] = 40;\n",
    "        array[4] = 50;\n",
    "\n",
    "        // creates a for conditional to iterate through the array with an increasing index (i++) until it reaches the last element.\n",
    "        for(int i = 0; i < array.length; i++) {\n",
    "            System.out.println(\"Element at index \" + i + \": \" + array[i]);\n",
    "        }\n",
    "    }\n",
    "}\n",
    "\n",
    "Main.main(null);"
   ]
  },
  {
   "attachments": {},
   "cell_type": "markdown",
   "metadata": {},
   "source": [
    "<br>\n",
    "\n",
    "**TOPIC 6.2** \n",
    "\n",
    "Main Idea: We should be able to traverse through arrays via iteration with conditional loops. "
   ]
  },
  {
   "attachments": {},
   "cell_type": "markdown",
   "metadata": {},
   "source": [
    "<h1>Important Vocabulary</h1>\n",
    "\n",
    "<br>\n",
    "\n",
    "**Traversal**: This simply refers to accessing each object in an array.\n",
    "\n",
    "<br>\n",
    "\n",
    "**Iteration Statements**: Using for or while loops to iterate through each object in an array.\n",
    "\n",
    "<br>\n",
    "\n",
    "**\"Off by One\" Errors**: This is when an array has been accessed with an incorrect index. It is important to remember that Java index starts at 0, and when a different starting index is initialized, it creates an ArrayIndexOutofBoundsException error."
   ]
  },
  {
   "attachments": {},
   "cell_type": "markdown",
   "metadata": {},
   "source": [
    "<br>\n",
    "\n",
    "**Traversing through an Array with a While Loop**"
   ]
  },
  {
   "cell_type": "code",
   "execution_count": 3,
   "metadata": {
    "vscode": {
     "languageId": "java"
    }
   },
   "outputs": [
    {
     "name": "stdout",
     "output_type": "stream",
     "text": [
      "10\n",
      "20\n",
      "30\n",
      "40\n",
      "50\n"
     ]
    }
   ],
   "source": [
    "public class ArrayTraversal {\n",
    "\n",
    "    public static void main(String[] args) {\n",
    "      \n",
    "      // this sets all of the elements in the array. this is a different way of expressing in comparison to the code block in topic 6.1. \n",
    "      int[] arr = {10, 20, 30, 40, 50};\n",
    "      \n",
    "      int i = 0;\n",
    "      \n",
    "      // uses a while loop. the conditional is that as long as the index is less than the length of the array, the array will be iterated through with each value getting printed. \n",
    "      while(i < arr.length) {\n",
    "        System.out.println(arr[i]);\n",
    "        i++;\n",
    "      }\n",
    "  \n",
    "    }\n",
    "  \n",
    "  }\n",
    "\n",
    "  ArrayTraversal.main(null);"
   ]
  },
  {
   "attachments": {},
   "cell_type": "markdown",
   "metadata": {},
   "source": [
    "<br>\n",
    "\n",
    "**TOPIC 6.3**\n",
    "\n",
    "Main Idea: We should be able to utilize enhanced for loops to traverse through arrays."
   ]
  },
  {
   "attachments": {},
   "cell_type": "markdown",
   "metadata": {},
   "source": [
    "<h1>Important Vocabulary</h1>\n",
    "\n",
    "<br>\n",
    "\n",
    "**Enhanced For Loop**: This type of loop allows for you to iterate over an array's elements without having to pre-define an index variable. "
   ]
  },
  {
   "attachments": {},
   "cell_type": "markdown",
   "metadata": {},
   "source": [
    "<br>\n",
    "\n",
    "**Using an Enhanced For Loop to Traverse through Basic Array**"
   ]
  },
  {
   "cell_type": "code",
   "execution_count": 4,
   "metadata": {
    "vscode": {
     "languageId": "java"
    }
   },
   "outputs": [
    {
     "name": "stdout",
     "output_type": "stream",
     "text": [
      "10\n",
      "20\n",
      "30\n",
      "40\n",
      "50\n"
     ]
    }
   ],
   "source": [
    "public class ArrayTraversal2 {\n",
    "\n",
    "    public static void main(String[] args) {\n",
    "      // defining the objects in the array\n",
    "      int[] arr = {10, 20, 30, 40, 50};\n",
    "      \n",
    "      // uses the enhanced for loop so that the index does not have to be explicitly defined\n",
    "      for(int element : arr) {\n",
    "        System.out.println(element);\n",
    "      }\n",
    "  \n",
    "    }\n",
    "  \n",
    "  }\n",
    "\n",
    "ArrayTraversal2.main(null);"
   ]
  },
  {
   "attachments": {},
   "cell_type": "markdown",
   "metadata": {},
   "source": [
    "<br>\n",
    "\n",
    "**TOPIC 6.4**\n",
    "\n",
    "Main Idea: Iteration and selection are crucial towards helping the computer to process all of the array objects."
   ]
  },
  {
   "cell_type": "code",
   "execution_count": 5,
   "metadata": {
    "vscode": {
     "languageId": "java"
    }
   },
   "outputs": [
    {
     "name": "stdout",
     "output_type": "stream",
     "text": [
      "Array Integers Sum: 15\n"
     ]
    }
   ],
   "source": [
    "public class ArraySumAlgorithm {\n",
    "\n",
    "    public static void main(String[] args) {\n",
    "      \n",
    "      // defines the objects in the array \n",
    "\n",
    "      int[] numbers = {1, 2, 3, 4, 5};\n",
    "      \n",
    "      // calls method to calculate the sum of array objects \n",
    "      int sum = calculateArraySum(numbers);\n",
    "      \n",
    "      System.out.println(\"Array Integers Sum: \" + sum);\n",
    "  \n",
    "    }\n",
    "  \n",
    "    public static int calculateArraySum(int[] array) {\n",
    "      \n",
    "      // initializes the total variable which stores the running total\n",
    "      int total = 0;\n",
    "      \n",
    "      // using an enhanced for loop to iterate through array's elements\n",
    "      for(int num : array) {\n",
    "        // adds each element to the 'total' variable\n",
    "        total += num;\n",
    "      }\n",
    "      \n",
    "      return total;\n",
    "    }\n",
    "  \n",
    "  }\n",
    "\n",
    "ArraySumAlgorithm.main(null);"
   ]
  }
 ],
 "metadata": {
  "kernelspec": {
   "display_name": "Java",
   "language": "java",
   "name": "java"
  },
  "language_info": {
   "codemirror_mode": "java",
   "file_extension": ".jshell",
   "mimetype": "text/x-java-source",
   "name": "Java",
   "pygments_lexer": "java",
   "version": "11.0.20+8-post-Ubuntu-1ubuntu120.04"
  },
  "orig_nbformat": 4
 },
 "nbformat": 4,
 "nbformat_minor": 2
}
