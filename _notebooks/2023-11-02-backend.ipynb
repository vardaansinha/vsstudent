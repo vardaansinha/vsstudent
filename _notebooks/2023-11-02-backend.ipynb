{
 "cells": [
  {
   "cell_type": "markdown",
   "metadata": {},
   "source": [
    "---\n",
    "layout: post\n",
    "title: INDIVIDUAL REVIEW P3 - PASSION PROJECT BACKEND & JWT\n",
    "toc: true\n",
    "comments: true\n",
    "description: \n",
    "courses: { csa: {week: 10} }\n",
    "type: tangibles\n",
    "---"
   ]
  },
  {
   "cell_type": "markdown",
   "metadata": {},
   "source": [
    "**Since my job was working on the login page, the main portion of my backend was implementing JWT: JSON Web Tokens.**"
   ]
  },
  {
   "cell_type": "markdown",
   "metadata": {},
   "source": [
    "**INITIAL PLAN FROM GROUP ISSUE:**\n",
    "\n",
    "![image.png](https://github.com/vardaansinha/vsstudent/blob/main/loginfuncissue.png?raw=true)\n"
   ]
  },
  {
   "cell_type": "markdown",
   "metadata": {},
   "source": [
    "**Diagram I made to Understand Spring and JWT Organization Better**"
   ]
  },
  {
   "cell_type": "markdown",
   "metadata": {},
   "source": [
    "![image.png](https://github.com/vardaansinha/vsstudent/blob/main/jimmyneutron.png?raw=true)\n"
   ]
  },
  {
   "cell_type": "markdown",
   "metadata": {},
   "source": [
    "**DETAILED OVERVIEW OF API & CHANGES MADE TO EXISTING TEMPLATE**"
   ]
  },
  {
   "cell_type": "markdown",
   "metadata": {},
   "source": [
    "*DatabaseApiController.java*"
   ]
  },
  {
   "cell_type": "markdown",
   "metadata": {},
   "source": [
    "Purpose: The getDB method is responsible for checking the user's permissions before getting the entries from the SQLite DB, and a user's permissions are determined based on the JWT cookie we've made named \"flashjwt.\""
   ]
  },
  {
   "cell_type": "code",
   "execution_count": null,
   "metadata": {
    "vscode": {
     "languageId": "java"
    }
   },
   "outputs": [],
   "source": [
    "@RestController\n",
    "@RequestMapping(\"/api/db\")\n",
    "public class DatabaseApiController {\n",
    "\n",
    "  @Autowired\n",
    "  LoginHandler handler;\n",
    "\n",
    "  @GetMapping(\"/sqlite.db\")\n",
    "  public ResponseEntity<Object> getDB (@CookieValue(\"flashjwt\") String jwt) throws IOException {\n",
    "    Person p = handler.decodeJwt(jwt);\n",
    "    if (p.isAdmin() && p != null) {\n",
    "      Resource coolDbResource = new FileSystemResource(\"volumes/sqlite.db\");\n",
    "\n",
    "      // Check if the file exists\n",
    "      if (!coolDbResource.exists()) {\n",
    "          throw new FileNotFoundException(\"sqlite.db file not found\");\n",
    "      }\n",
    "\n",
    "      // Set the content type of the file\n",
    "      String contentType = \"application/octet-stream\";\n",
    "\n",
    "      // Returns the response back from the database\n",
    "      return ResponseEntity.ok()\n",
    "              .contentType(MediaType.parseMediaType(contentType))\n",
    "              .header(HttpHeaders.CONTENT_DISPOSITION, \"attachment; filename=\\\"\" + coolDbResource.getFilename() + \"\\\"\")\n",
    "              .body(coolDbResource);\n",
    "    } else {\n",
    "      Map<String, Object> resp = new HashMap<>();\n",
    "      resp.put(\"err\", \"Unauthorized\");\n",
    "      return new ResponseEntity<>(resp, HttpStatus.UNAUTHORIZED);\n",
    "    }\n",
    "      \n",
    "  }\n",
    "}"
   ]
  },
  {
   "cell_type": "markdown",
   "metadata": {},
   "source": [
    "**IMPORTANT COMPONENTS & KEY LEARNINGS**\n",
    "\n",
    "The getDB method takes the parameter 'jwt' - extracting the \"flashjwt\" cookie value and providing it as the 'jwt' parameter to the method. \n",
    "\n",
    "Then, the handler method is used to decode the JWT and retrieve a 'Person' object, checking whether or not a user is an admin AND if the 'Person' object is not null. \n",
    "\n",
    "If the user is an admin, it is able to access the sqlite.db file and its accompanying entries.\n",
    "\n"
   ]
  },
  {
   "cell_type": "markdown",
   "metadata": {},
   "source": [
    "**OOP PRINCIPLES**:\n",
    "\n",
    "**MODULARITY**:\n",
    "\n",
    "The code is modular, with different methods and classes responsible for distinct tasks. This allows for a separation of concerns and allows for easier maintenance of the entire authentication portion of the project. "
   ]
  },
  {
   "cell_type": "markdown",
   "metadata": {},
   "source": [
    "*PersonApiController.java*"
   ]
  },
  {
   "cell_type": "code",
   "execution_count": null,
   "metadata": {
    "vscode": {
     "languageId": "java"
    }
   },
   "outputs": [],
   "source": [
    "@GetMapping(\"/isAdmin\")\n",
    "    public ResponseEntity<Object> getIsAdmin (@CookieValue(\"flashjwt\") String jwt) {\n",
    "        Person p = handler.decodeJwt(jwt);\n",
    "        if (p != null && p.admin) {\n",
    "            Map<String, Object> resp = new HashMap<>();\n",
    "            resp.put(\"err\", false);\n",
    "            return new ResponseEntity<>(resp, HttpStatus.OK);\n",
    "\n",
    "        } else {\n",
    "            Map<String, Object> resp = new HashMap<>();\n",
    "            resp.put(\"err\", \"Unauthorized\");\n",
    "            return new ResponseEntity<>(resp, HttpStatus.UNAUTHORIZED);\n",
    "        }\n",
    "    }"
   ]
  },
  {
   "cell_type": "markdown",
   "metadata": {},
   "source": [
    "**OOP APPLICATION**\n",
    "\n",
    "**ABSTRACTION**\n",
    "\n",
    "1. Utilizing HashMaps for holding key-value pairs of \"err\" key representing the authorization status of a user, and the value of \"false\" or \"Unauthorized\" - this structures how the response is sent to the client.\n",
    "\n",
    "2. Easy Simplification of JWT Decoding Process - only one line of code. 'decodeJWT' returns the Person object and this is something that can easily be applied to another project. "
   ]
  },
  {
   "cell_type": "markdown",
   "metadata": {},
   "source": [
    "![image.png](https://github.com/vardaansinha/vsstudent/blob/main/commitp1.png?raw=true)\n",
    "![image1.png](https://github.com/vardaansinha/vsstudent/blob/main/commitp2.png?raw=true)\n",
    "![image2.png](https://github.com/vardaansinha/vsstudent/blob/main/commitp3.png?raw=true)\n"
   ]
  },
  {
   "cell_type": "markdown",
   "metadata": {},
   "source": [
    "**PROGRESSING**\n",
    "\n",
    "![image.png](https://github.com/vardaansinha/vsstudent/blob/main/goodboycommit.png?raw=true)"
   ]
  },
  {
   "cell_type": "markdown",
   "metadata": {},
   "source": [
    "**ANALYTICS:**\n",
    "\n",
    "![image.png](https://github.com/vardaansinha/vsstudent/blob/main/analytics2.png?raw=true)\n"
   ]
  },
  {
   "cell_type": "markdown",
   "metadata": {},
   "source": [
    "**I have put in a lot of effort towards the backend - I put in a lot of effort towards learning about JWT and Spring, and though I still have a long way to go, I have made a lot of progress from the start, when I had absolutely nothing.**"
   ]
  },
  {
   "cell_type": "markdown",
   "metadata": {},
   "source": [
    "**CHALLENGES WE FACED WITH JWT AND AUTHORIZATION**"
   ]
  },
  {
   "cell_type": "markdown",
   "metadata": {},
   "source": [
    "**415 Unsupported Media Type Error**\n",
    "\n",
    "Every time we would try to send a POST request to authorize the user (during Postman testing stages as well) we would receive a 415 Unsupported Media Type Error.\n",
    "\n",
    "SOLUTION: We made sure that the request headers included \"Content-Type\": \"application/json\" to specify the content type as JSON.\n"
   ]
  },
  {
   "cell_type": "markdown",
   "metadata": {},
   "source": [
    "**403 Forbidden Error**\n",
    "\n",
    "At one point in the last minute our backend runtime requests just stopped functioning, giving us a 403 Forbidden Error. \n",
    "\n",
    "SOLUTION: We had to go into the SecurityConfig.java file, make sure that we used permitAll(), allowing public access to specific endpoints for both GET and POST requests.\n"
   ]
  },
  {
   "cell_type": "markdown",
   "metadata": {},
   "source": [
    "**CORS**\n",
    "\n",
    "CORS is still giving us errors despite the cookie for authorization showing up. \n",
    "\n",
    "SOLUTION: We were able to add the necessary CORS headers to allow frontend requests. These included Access-Control-Allow-Origin and Access-Control-Allow-Methods in specific in the SecurityConfig file."
   ]
  }
 ],
 "metadata": {
  "language_info": {
   "name": "python"
  }
 },
 "nbformat": 4,
 "nbformat_minor": 2
}
