{
 "cells": [
  {
   "cell_type": "markdown",
   "metadata": {},
   "source": [
    "---\n",
    "comments: true\n",
    "layout: post\n",
    "title: Starting Java Notebook \n",
    "description: First Java Notebook In Progress\n",
    "type: hacks\n",
    "---"
   ]
  },
  {
   "cell_type": "markdown",
   "metadata": {},
   "source": [
    "**KEY TERMS**:\n",
    "\n",
    "1. CLASS: The class always has to be called in order for the code to be run.\n",
    "\n",
    "2. METHOD: Akin to the CSP procedure which is being called. This is the code being run.\n",
    "\n",
    "3. SIGNATURE: public static void, string[] args\n",
    "\n",
    "4. METHOD CALL: How is the code in question being run?\n",
    "\n"
   ]
  },
  {
   "cell_type": "code",
   "execution_count": 10,
   "metadata": {
    "vscode": {
     "languageId": "java"
    }
   },
   "outputs": [
    {
     "name": "stdout",
     "output_type": "stream",
     "text": [
      "Welcome to CSA!\n"
     ]
    }
   ],
   "source": [
    "public class HelloStatic {\n",
    "\n",
    "    public static void main(String[] args) {    \n",
    "        System.out.println(\"Welcome to CSA!\");\n",
    "    }\n",
    "}\n",
    "\n",
    "HelloStatic.main(null);   "
   ]
  },
  {
   "cell_type": "code",
   "execution_count": 11,
   "metadata": {
    "vscode": {
     "languageId": "java"
    }
   },
   "outputs": [
    {
     "ename": "CompilationException",
     "evalue": "",
     "output_type": "error",
     "traceback": [
      "\u001b[1m\u001b[30m|   \u001b[1m\u001b[30m    public PlayerAge(String\u001b[0m\u001b[1m\u001b[30m\u001b[41m\u001b[0m\u001b[1m\u001b[30m initplayer, String initage) {\u001b[0m",
      "\u001b[1m\u001b[31m')' expected\u001b[0m",
      ""
     ]
    }
   ],
   "source": [
    "public class PlayerAge {\n",
    "    private String player;\n",
    "    private String age;\n",
    "\n",
    "\n",
    "    public PlayerAge(String initplayer, String initage) {\n",
    "        player = initplayer;\n",
    "        age = initage;\n",
    "    }\n",
    "\n",
    "    public void print() {\n",
    "        System.out.println(\"Player: \" + player);\n",
    "        System.out.println(\"Age: \" + age);\n",
    "    }\n",
    "\n",
    "    public static void main(String[] args) {\n",
    "        PlayerAge p1 = new PlayerAge(\"LeBron James\", \"38\");\n",
    "        p1.print();\n",
    "        PlayerAge p2 = new PlayerAge(\"Michael Jordan\", \"60\");\n",
    "        p2.print();\n",
    "    }\n",
    "        \n",
    "}"
   ]
  }
 ],
 "metadata": {
  "kernelspec": {
   "display_name": "Java",
   "language": "java",
   "name": "java"
  },
  "language_info": {
   "codemirror_mode": "java",
   "file_extension": ".jshell",
   "mimetype": "text/x-java-source",
   "name": "Java",
   "pygments_lexer": "java",
   "version": "11.0.20+8-post-Ubuntu-1ubuntu120.04"
  }
 },
 "nbformat": 4,
 "nbformat_minor": 2
}
