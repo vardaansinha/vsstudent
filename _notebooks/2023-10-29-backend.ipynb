{
 "cells": [
  {
   "cell_type": "markdown",
   "metadata": {},
   "source": [
    "---\n",
    "layout: post\n",
    "title: INDIVIDUAL REVIEW P3 - PASSION PROJECT BACKEND & JWT\n",
    "toc: true\n",
    "comments: true\n",
    "description: \n",
    "courses: { csa: {week: 10} }\n",
    "type: tangibles\n",
    "---"
   ]
  },
  {
   "cell_type": "markdown",
   "metadata": {},
   "source": [
    "**Since my job was working on the login page, the main portion of my backend was implementing JWT: JSON Web Tokens.**"
   ]
  },
  {
   "cell_type": "markdown",
   "metadata": {},
   "source": [
    "**INITIAL PLAN FROM GROUP ISSUE:**\n",
    "\n",
    "![image.png](https://github.com/vardaansinha/vsstudent/blob/main/loginfuncissue.png?raw=true)\n"
   ]
  },
  {
   "cell_type": "markdown",
   "metadata": {},
   "source": [
    "![image.png](https://github.com/vardaansinha/vsstudent/blob/main/commitp1.png?raw=true)\n",
    "![image1.png](https://github.com/vardaansinha/vsstudent/blob/main/commitp2.png?raw=true)\n",
    "![image2.png](https://github.com/vardaansinha/vsstudent/blob/main/commitp3.png?raw=true)\n"
   ]
  },
  {
   "cell_type": "markdown",
   "metadata": {},
   "source": [
    "**PROGRESS: It is clear that I made significant progress towards almost being completely done with the JWT implementation into the login page. Using Mr. Mortensen's guides and my own personal research, I was able to modify the existing framework to account for the unique part of our project login page - the fact that the teacher has to have their own unique login key (\"MortCSA\") and the students are logging in with their GitHub ID.**"
   ]
  },
  {
   "cell_type": "markdown",
   "metadata": {},
   "source": [
    "**I added role-based access control, ensuring that teachers and students have different privileges, and secured the database access by validating roles. These enhancements have strengthened the security and functionality of the platform.**"
   ]
  },
  {
   "cell_type": "markdown",
   "metadata": {},
   "source": [
    "**ANALYTICS:**\n",
    "\n",
    "![image.png](https://github.com/vardaansinha/vsstudent/blob/main/analytics.png?raw=true)\n"
   ]
  },
  {
   "cell_type": "markdown",
   "metadata": {},
   "source": [
    "**I have put in a lot of effort towards the backend - I put in a lot of effort towards learning about JWT and Spring, and though I still have a long way to go, I have made a lot of progress from the start, when I had absolutely nothing.**"
   ]
  },
  {
   "cell_type": "markdown",
   "metadata": {},
   "source": [
    "**CHALLENGES I AM CURRENTLY FACING**"
   ]
  },
  {
   "cell_type": "markdown",
   "metadata": {},
   "source": [
    "First of all, for some reason, I am getting an error in my LoginApiController.java file saying that 'specialKey' cannot be resolved to a variable, even though I passed it through. I am not sure why, and here is the code:"
   ]
  },
  {
   "cell_type": "code",
   "execution_count": null,
   "metadata": {
    "vscode": {
     "languageId": "java"
    }
   },
   "outputs": [],
   "source": [
    "// initial code where specialKey is set as a a string\n",
    "if (\"teacher\".equalsIgnoreCase(userType)) {\n",
    "    String specialKey = (String) map.get(\"specialKey\");\n",
    "    if (!\"mortCSA\".equals(specialKey)) {\n",
    "      Map<String, Object> resp = new HashMap<>();\n",
    "      resp.put(\"err\", \"Invalid special key for teacher\");\n",
    "      return new ResponseEntity<>(resp, HttpStatus.BAD_REQUEST);\n",
    "    }\n",
    "  } else if (!\"student\".equalsIgnoreCase(userType)) {\n",
    "    Map<String, Object> resp = new HashMap<>();\n",
    "    resp.put(\"err\", \"Invalid user type\");\n",
    "    return new ResponseEntity<>(resp, HttpStatus.BAD_REQUEST);\n",
    "  }"
   ]
  },
  {
   "cell_type": "code",
   "execution_count": null,
   "metadata": {
    "vscode": {
     "languageId": "java"
    }
   },
   "outputs": [],
   "source": [
    "// Check userType and generate a different token for teachers\n",
    "if (\"student\".equalsIgnoreCase(userType)) {\n",
    "    jws = handler.createStudentJwt(githubId);\n",
    "} else if (\"teacher\".equalsIgnoreCase(userType)) {\n",
    "    jws = handler.createTeacherJwt(specialKey); // this is where the error is\n",
    "}\n"
   ]
  },
  {
   "cell_type": "markdown",
   "metadata": {},
   "source": [
    "Furthermore, I need to figure out how I can test this as soon as possible. There is not a lot of time left, and I need to make sure that this is a working feature. It seems like as of now, only minor tweaks are needed, but hopefully I can collaborate with my team members, make sure our project is deployed, and solidify the JWT implementation."
   ]
  },
  {
   "cell_type": "markdown",
   "metadata": {},
   "source": [
    "![]({{site.baseurl}}/images/commitp2.png \"CNN IDEA\")\n",
    "![]({{site.baseurl}}/images/commitp3.png \"CNN IDEA\")\n"
   ]
  }
 ],
 "metadata": {
  "language_info": {
   "name": "python"
  }
 },
 "nbformat": 4,
 "nbformat_minor": 2
}
