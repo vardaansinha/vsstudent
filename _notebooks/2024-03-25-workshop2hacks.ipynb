{
 "cells": [
  {
   "cell_type": "markdown",
   "metadata": {},
   "source": [
    "---\n",
    "layout: post\n",
    "title: CSA Workshop 2 Hacks\n",
    "toc: true\n",
    "comments: true\n",
    "description: \n",
    "courses: { csa: {week: 34} }\n",
    "type: tangibles\n",
    "---"
   ]
  },
  {
   "cell_type": "markdown",
   "metadata": {},
   "source": [
    "<h1>Question 1: POJOs</h1>"
   ]
  },
  {
   "cell_type": "markdown",
   "metadata": {},
   "source": [
    "Situation: The school librarian wants to create a program that stores all of the books within the library in a database and is used to manage their inventory of books available to the students. You decided to put your amazing code skills to work and help out the librarian!\n",
    "\n",
    "a. Describe the key differences between the private and public access controllers and how it affects a POJO\n",
    "\n",
    "**A private access controller is only accessible within the same class, while a public access controller is accessible from any other class to be modified. In terms of POJOs, private access controllers allow for data encapsulation, protecting from any unwanted changes.**"
   ]
  },
  {
   "cell_type": "markdown",
   "metadata": {},
   "source": [
    "b. Identify a scenario when you would use the private vs. public access controllers that isn't the one given in the scenario above\n",
    "\n",
    "**There could be a banking app where a person's balance is stored within an object. You would want the balance to use private access controllers so that the balance is not modified by any other class. Other methods for depositing and withdrawing cash could be public, but the balance method itself should not be played around with, making it best for it to be a private access controller.**"
   ]
  },
  {
   "cell_type": "markdown",
   "metadata": {},
   "source": [
    "c. Create a Book class that represents the following attributes about a book: title, author, date published, person holding the book and make sure that the objects are using a POJO, the proper getters and setters and are secure from any other modifications that the program makes later to the objects"
   ]
  },
  {
   "cell_type": "code",
   "execution_count": null,
   "metadata": {
    "vscode": {
     "languageId": "java"
    }
   },
   "outputs": [],
   "source": [
    "import java.util.Date;\n",
    "\n",
    "public class Book {\n",
    "    // Private fields\n",
    "    private String title;\n",
    "    private String author;\n",
    "    private Date datePublished;\n",
    "    private String personHoldingBook;\n",
    "\n",
    "    // Constructor\n",
    "    public Book(String title, String author, Date datePublished, String personHoldingBook) {\n",
    "        this.title = title;\n",
    "        this.author = author;\n",
    "        this.datePublished = datePublished;\n",
    "        this.personHoldingBook = personHoldingBook;\n",
    "    }\n",
    "\n",
    "    // Getters and setters\n",
    "    public String getTitle() {\n",
    "        return title;\n",
    "    }\n",
    "\n",
    "    public void setTitle(String title) {\n",
    "        this.title = title;\n",
    "    }\n",
    "\n",
    "    public String getAuthor() {\n",
    "        return author;\n",
    "    }\n",
    "\n",
    "    public void setAuthor(String author) {\n",
    "        this.author = author;\n",
    "    }\n",
    "\n",
    "    public Date getDatePublished() {\n",
    "        return datePublished;\n",
    "    }\n",
    "\n",
    "    public void setDatePublished(Date datePublished) {\n",
    "        this.datePublished = datePublished;\n",
    "    }\n",
    "\n",
    "    public String getPersonHoldingBook() {\n",
    "        return personHoldingBook;\n",
    "    }\n",
    "\n",
    "    public void setPersonHoldingBook(String personHoldingBook) {\n",
    "        this.personHoldingBook = personHoldingBook;\n",
    "    }\n",
    "\n",
    "    // toString method \n",
    "    @Override\n",
    "    public String toString() {\n",
    "        return \"Book{\" +\n",
    "                \"title='\" + title + '\\'' +\n",
    "                \", author='\" + author + '\\'' +\n",
    "                \", datePublished=\" + datePublished +\n",
    "                \", personHoldingBook='\" + personHoldingBook + '\\'' +\n",
    "                '}';\n",
    "    }\n",
    "}\n"
   ]
  },
  {
   "cell_type": "markdown",
   "metadata": {},
   "source": [
    "<br>"
   ]
  },
  {
   "cell_type": "markdown",
   "metadata": {},
   "source": [
    "<h1>Question 2: Writing Classes</h1>"
   ]
  },
  {
   "cell_type": "markdown",
   "metadata": {},
   "source": [
    "(a) Describe the different features needed to create a class and what their purpose is: **A class declaration to declare a class, variables declared within a class to represent object properties, constructors to initialize objects, methods within a class to define how objects behave, access controllers to determine which fields can be modified, and getters/setters to modify values of private fields are all key components to create a class.**"
   ]
  },
  {
   "cell_type": "markdown",
   "metadata": {},
   "source": [
    "(b) Code:\n",
    "\n",
    "Create a Java class BankAccount to represent a simple bank account. This class should have the following attributes:\n",
    "\n",
    "accountHolder (String): The name of the account holder. balance (double): The current balance in the account. Implement the following mutator (setter) methods for the BankAccount class:\n",
    "setAccountHolder(String name): Sets the name of the account holder.\n",
    "deposit(double amount): Deposits a given amount into the account.\n",
    "withdraw(double amount): Withdraws a given amount from the account, but only if the withdrawal amount is less than or equal to the current balance. Ensure that the balance is never negative."
   ]
  },
  {
   "cell_type": "code",
   "execution_count": 1,
   "metadata": {
    "vscode": {
     "languageId": "java"
    }
   },
   "outputs": [
    {
     "name": "stdout",
     "output_type": "stream",
     "text": [
      "Initial balance: $1000.0\n",
      "500.0 deposited successfully.\n",
      "200.0 withdrawn successfully.\n",
      "Insufficient funds. Withdrawal amount exceeds balance.\n",
      "Final balance: $1300.0\n"
     ]
    }
   ],
   "source": [
    "public class BankAccount {\n",
    "    // Attributes\n",
    "    private String accountHolder;\n",
    "    private double balance;\n",
    "\n",
    "    // Constructor\n",
    "    public BankAccount(String accountHolder, double initialBalance) {\n",
    "        this.accountHolder = accountHolder;\n",
    "        this.balance = initialBalance;\n",
    "    }\n",
    "\n",
    "    \n",
    "    public void setAccountHolder(String name) {\n",
    "        this.accountHolder = name;\n",
    "    }\n",
    "\n",
    "    public void deposit(double amount) {\n",
    "        if (amount > 0) {\n",
    "            balance += amount;\n",
    "            System.out.println(amount + \" deposited successfully.\");\n",
    "        } else {\n",
    "            System.out.println(\"Invalid deposit amount. Amount must be positive.\");\n",
    "        }\n",
    "    }\n",
    "\n",
    "    public void withdraw(double amount) {\n",
    "        if (amount > 0) {\n",
    "            if (amount <= balance) {\n",
    "                balance -= amount;\n",
    "                System.out.println(amount + \" withdrawn successfully.\");\n",
    "            } else {\n",
    "                System.out.println(\"Insufficient funds. Withdrawal amount exceeds balance.\");\n",
    "            }\n",
    "        } else {\n",
    "            System.out.println(\"Invalid withdrawal amount. Amount must be positive.\");\n",
    "        }\n",
    "    }\n",
    "\n",
    "    // cant withdraw more than exists\n",
    "    private void ensureNonNegativeBalance() {\n",
    "        if (balance < 0) {\n",
    "            balance = 0;\n",
    "        }\n",
    "    }\n",
    "\n",
    "    // Getters\n",
    "    public String getAccountHolder() {\n",
    "        return accountHolder;\n",
    "    }\n",
    "\n",
    "    public double getBalance() {\n",
    "        return balance;\n",
    "    }\n",
    "\n",
    "    // testing purposes lol\n",
    "    public static void main(String[] args) {\n",
    "        // Create a bank account\n",
    "        BankAccount account = new BankAccount(\"John Doe\", 1000.0);\n",
    "\n",
    "        // Display initial balance\n",
    "        System.out.println(\"Initial balance: $\" + account.getBalance());\n",
    "\n",
    "        // Deposit $500\n",
    "        account.deposit(500.0);\n",
    "\n",
    "        // Withdraw $200\n",
    "        account.withdraw(200.0);\n",
    "\n",
    "        // Withdraw $2000 (exceeding balance)\n",
    "        account.withdraw(2000.0);\n",
    "\n",
    "        // Display final balance\n",
    "        System.out.println(\"Final balance: $\" + account.getBalance());\n",
    "    }\n",
    "}\n",
    "\n",
    "\n",
    "BankAccount.main(null);"
   ]
  },
  {
   "cell_type": "markdown",
   "metadata": {},
   "source": [
    "<br>"
   ]
  },
  {
   "cell_type": "markdown",
   "metadata": {},
   "source": [
    "<h1>Question 5: Inheritance</h1>"
   ]
  },
  {
   "cell_type": "markdown",
   "metadata": {},
   "source": [
    "Situation: You are developing a program to manage a zoo, where various types of animals are kept in different enclosures. To streamline your code, you decide to use inheritance to model the relationships between different types of animals and their behaviors.\n",
    "\n",
    "(a) Explain the concept of inheritance in Java. Provide an example scenario where inheritance is useful: **Inheritance is a key component of object oriented programming which allows for a subclass to inherit the properties of a parent class, allowing for easy code reusability and functionality extension. An example where inheritance could be useful is where there is a parent class called \"Animal\", and then creating a subclass \"dog\" that inherits the properties of the parent class in order to reuse that code but add ceryain functionalities for the child class in specific.**"
   ]
  },
  {
   "cell_type": "markdown",
   "metadata": {},
   "source": [
    "(b) You need to implement a Java class hierarchy to represent different types of animals in the zoo. Create a superclass Animal with basic attributes and methods common to all animals, and at least three subclasses representing specific types of animals with additional attributes and methods. Include comments to explain your code, specifically how inheritance is used.\n",
    "\n"
   ]
  },
  {
   "cell_type": "code",
   "execution_count": 3,
   "metadata": {
    "vscode": {
     "languageId": "java"
    }
   },
   "outputs": [
    {
     "name": "stdout",
     "output_type": "stream",
     "text": [
      "Mammal Information:\n",
      "Name: Lion\n",
      "Age: 5\n",
      "Fur Color: Golden\n",
      "\n",
      "Bird Information:\n",
      "Name: Eagle\n",
      "Age: 3\n",
      "Can Fly: true\n",
      "\n",
      "Reptile Information:\n",
      "Name: Snake\n",
      "Age: 2\n",
      "Is Cold-Blooded: true\n"
     ]
    }
   ],
   "source": [
    "// Superclass representing all animals\n",
    "class Animal {\n",
    "    // private instance variables\n",
    "    private String name;\n",
    "    private int age;\n",
    "\n",
    "    // constructors\n",
    "    public Animal(String name, int age) {\n",
    "        this.name = name;\n",
    "        this.age = age;\n",
    "    }\n",
    "\n",
    "    // Method to display generic information about an animal\n",
    "    public void displayInfo() {\n",
    "        System.out.println(\"Name: \" + name);\n",
    "        System.out.println(\"Age: \" + age);\n",
    "    }\n",
    "}\n",
    "\n",
    "// extending animal class with mammal subclass\n",
    "class Mammal extends Animal {\n",
    "    // Additional attribute for mammals\n",
    "    private String furColor;\n",
    "\n",
    "    // Constructor\n",
    "    public Mammal(String name, int age, String furColor) {\n",
    "        super(name, age); // Call superclass constructor\n",
    "        this.furColor = furColor;\n",
    "    }\n",
    "\n",
    "    // Method to display specific information about mammals\n",
    "    public void displayMammalInfo() {\n",
    "        displayInfo(); // Call superclass method\n",
    "        System.out.println(\"Fur Color: \" + furColor);\n",
    "    }\n",
    "}\n",
    "\n",
    "// Subclass representing birds\n",
    "class Bird extends Animal {\n",
    "    // Additional attribute for birds\n",
    "    private boolean canFly;\n",
    "\n",
    "    // Constructor\n",
    "    public Bird(String name, int age, boolean canFly) {\n",
    "        super(name, age); // Call superclass constructor\n",
    "        this.canFly = canFly;\n",
    "    }\n",
    "\n",
    "    // Method to display specific information about birds\n",
    "    public void displayBirdInfo() {\n",
    "        displayInfo(); // Call superclass method\n",
    "        System.out.println(\"Can Fly: \" + canFly);\n",
    "    }\n",
    "}\n",
    "\n",
    "// Subclass representing reptiles\n",
    "class Reptile extends Animal {\n",
    "    // Additional attribute for reptiles\n",
    "    private boolean isColdBlooded;\n",
    "\n",
    "    // Constructor\n",
    "    public Reptile(String name, int age, boolean isColdBlooded) {\n",
    "        super(name, age); // Call superclass constructor\n",
    "        this.isColdBlooded = isColdBlooded;\n",
    "    }\n",
    "\n",
    "    // repitle information\n",
    "    public void displayReptileInfo() {\n",
    "        displayInfo(); // superclass method\n",
    "        System.out.println(\"Is Cold-Blooded: \" + isColdBlooded);\n",
    "    }\n",
    "}\n",
    "\n",
    "// Main class for testing\n",
    "public class Zoo {\n",
    "    public static void main(String[] args) {\n",
    "        // different animals\n",
    "        Mammal lion = new Mammal(\"Lion\", 5, \"Golden\");\n",
    "        Bird eagle = new Bird(\"Eagle\", 3, true);\n",
    "        Reptile snake = new Reptile(\"Snake\", 2, true);\n",
    "\n",
    "        // printing info\n",
    "        System.out.println(\"Mammal Information:\");\n",
    "        lion.displayMammalInfo();\n",
    "        System.out.println();\n",
    "\n",
    "        System.out.println(\"Bird Information:\");\n",
    "        eagle.displayBirdInfo();\n",
    "        System.out.println();\n",
    "\n",
    "        System.out.println(\"Reptile Information:\");\n",
    "        snake.displayReptileInfo();\n",
    "    }\n",
    "}\n",
    "\n",
    "\n",
    "Zoo.main(null);"
   ]
  }
 ],
 "metadata": {
  "kernelspec": {
   "display_name": "Java",
   "language": "java",
   "name": "java"
  },
  "language_info": {
   "codemirror_mode": "java",
   "file_extension": ".jshell",
   "mimetype": "text/x-java-source",
   "name": "Java",
   "pygments_lexer": "java",
   "version": "17.0.10+7-Ubuntu-120.04.1"
  }
 },
 "nbformat": 4,
 "nbformat_minor": 2
}
