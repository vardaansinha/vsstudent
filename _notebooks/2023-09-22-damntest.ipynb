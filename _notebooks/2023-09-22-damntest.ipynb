{
 "cells": [
  {
   "attachments": {},
   "cell_type": "markdown",
   "metadata": {},
   "source": [
    "---\n",
    "toc: true\n",
    "comments: true\n",
    "layout: post\n",
    "title: Testing Time\n",
    "type: help\n",
    "courses: { csa: {week: 5} }\n",
    "---"
   ]
  },
  {
   "cell_type": "code",
   "execution_count": 17,
   "metadata": {
    "vscode": {
     "languageId": "java"
    }
   },
   "outputs": [],
   "source": [
    "import java.util.ArrayList;"
   ]
  },
  {
   "cell_type": "code",
   "execution_count": 15,
   "metadata": {
    "vscode": {
     "languageId": "java"
    }
   },
   "outputs": [
    {
     "name": "stdout",
     "output_type": "stream",
     "text": [
      "Keypad Normal\n",
      "1 2 3 \n",
      "4 5 6 \n",
      "7 8 9 \n",
      "0\n",
      "\n",
      "Keypad Reversed:\n",
      "0\n",
      "7 8 9 \n",
      "4 5 6 \n",
      "1 2 3 \n"
     ]
    }
   ],
   "source": [
    "public class ArrayDisplay {\n",
    "    public static void initializeKeypad(int[][] arr, boolean upsideDown) {\n",
    "        if (!upsideDown) { \n",
    "            System.out.println(\"Keypad Normal\");\n",
    "            for (int row = 0; row < arr.length - 1; row++) {\n",
    "                for (int col = 0; col < arr[0].length; col++) {\n",
    "                    System.out.print(arr[row][col] + \" \");\n",
    "                }\n",
    "                System.out.println();\n",
    "            }\n",
    "            System.out.print(arr[arr.length-1][0]);\n",
    "        }\n",
    "\n",
    "        else {\n",
    "            System.out.println(\"Keypad Reversed:\");\n",
    "            System.out.print(arr[arr.length-1][0]);\n",
    "            System.out.println();\n",
    "            for (int row = arr.length - 2; row >= 0; row--) {\n",
    "                for (int col = 0; col < arr[0].length; col++) {\n",
    "                    System.out.print(arr[row][col] + \" \");\n",
    "                }\n",
    "                System.out.println();\n",
    "            }\n",
    "        }\n",
    "    }\n",
    "    \n",
    "    \n",
    "    public static void main(String[] args) {\n",
    "        int[][] matrix = { {1, 2, 3}, {4, 5, 6}, {7, 8, 9} , {0}};\n",
    "\n",
    "        initializeKeypad(matrix, false);\n",
    "        System.out.println(\"\\n\");\n",
    "        initializeKeypad(matrix, true);\n",
    "    }\n",
    "}\n",
    "\n",
    "ArrayDisplay.main(null);"
   ]
  },
  {
   "attachments": {},
   "cell_type": "markdown",
   "metadata": {},
   "source": [
    "Create a Java method called initializeRandomLetters method to take two parameters: n (an integer) and asciiStart (a character representing the starting ASCII value for generating random letters). The method should generate n random integers between 0 and 32 and add them to the asciiStart character to obtain random characters. These characters should be added to an ArrayList and returned."
   ]
  },
  {
   "cell_type": "code",
   "execution_count": 43,
   "metadata": {
    "vscode": {
     "languageId": "java"
    }
   },
   "outputs": [
    {
     "name": "stdout",
     "output_type": "stream",
     "text": [
      "a\n",
      "崡\n",
      "\n",
      "閤\n",
      "줭\n",
      "ꍫ\n",
      "ľ\n",
      "쏯\n",
      "亝\n",
      "琛\n",
      "鍶\n",
      "넌\n",
      "䜁\n",
      "콨\n",
      "疒\n",
      "\n",
      "맷\n",
      "椛\n",
      "돛\n",
      "ቭ\n",
      "鮓\n",
      "誴\n",
      "뜡\n",
      "懰\n",
      "迀\n",
      "䆽\n",
      "\n",
      "뽜\n",
      "됄\n",
      "티\n",
      "\n",
      "˦\n",
      "熢\n"
     ]
    }
   ],
   "source": [
    "import java.util.ArrayList;\n",
    "import java.lang.Math;\n",
    "\n",
    "class thing {\n",
    "\n",
    "    public static ArrayList<Character> initializeRandomLetters(int n, char asciiStart) {\n",
    "\n",
    "        ArrayList<Character> randomLetterArray = new ArrayList<>();\n",
    "\n",
    "        randomLetterArray.add(asciiStart);\n",
    "\n",
    "        for (int i = 0; i < 32; i++) {\n",
    "            // System.out.println((int) Math.round(Math.random()*100));\n",
    "            randomLetterArray.add((char) (int) Math.round(Math.random()*2147483647));\n",
    "        }\n",
    "\n",
    "        return randomLetterArray;\n",
    "    }\n",
    "\n",
    "    public static void main(String[] args) {\n",
    "        ArrayList<Character> randomLetterArray = initializeRandomLetters(32, 'a');\n",
    "\n",
    "        for (int i = 0; i < randomLetterArray.size(); i++) {\n",
    "            System.out.println(randomLetterArray.get(i));\n",
    "        }\n",
    "    }\n",
    "}\n",
    "\n",
    "thing.main(null);"
   ]
  }
 ],
 "metadata": {
  "kernelspec": {
   "display_name": "Java",
   "language": "java",
   "name": "java"
  },
  "language_info": {
   "codemirror_mode": "java",
   "file_extension": ".jshell",
   "mimetype": "text/x-java-source",
   "name": "Java",
   "pygments_lexer": "java",
   "version": "11.0.20+8-post-Ubuntu-1ubuntu120.04"
  },
  "orig_nbformat": 4
 },
 "nbformat": 4,
 "nbformat_minor": 2
}
