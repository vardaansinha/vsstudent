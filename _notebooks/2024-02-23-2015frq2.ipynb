{
 "cells": [
  {
   "cell_type": "markdown",
   "metadata": {},
   "source": [
    "---\n",
    "layout: post\n",
    "title: 2015 FRQ Final QUESTION 2\n",
    "toc: true\n",
    "comments: true\n",
    "description: \n",
    "courses: { csa: {week: 24} }\n",
    "type: tangibles\n",
    "---"
   ]
  },
  {
   "cell_type": "markdown",
   "metadata": {},
   "source": [
    "**QUESTION 2: CLASSES**"
   ]
  },
  {
   "cell_type": "markdown",
   "metadata": {},
   "source": [
    "Write the complete HiddenWord class, including any necessary instance variables, its constructor, and the method, getHint, described above. You may assume that the length of the guess is the same as the length of the hidden word."
   ]
  },
  {
   "cell_type": "code",
   "execution_count": 1,
   "metadata": {
    "vscode": {
     "languageId": "java"
    }
   },
   "outputs": [
    {
     "name": "stdout",
     "output_type": "stream",
     "text": [
      "LETS PLAY THE GAME..\n",
      "GUESS THE HIDDEN WORD. (all caps, 5 letters):\n",
      "Enter your guess: Hint: H*++*\n",
      "WRONG, TRY AGAIN!\n",
      "Enter your guess: Hint: HA+*S\n",
      "WRONG, TRY AGAIN!\n",
      "Enter your guess: Hint: HARPS\n",
      "CONGRATS! You've guessed the word!\n"
     ]
    }
   ],
   "source": [
    "import java.util.Scanner;\n",
    "\n",
    "public class HiddenWord {\n",
    "    private String word;\n",
    "\n",
    "    public HiddenWord(String hWord) {\n",
    "        word = hWord;\n",
    "    }\n",
    "\n",
    "    public String getHint(String guess) {\n",
    "        String hint = \"\";\n",
    "        for (int i = 0; i < guess.length(); i++) {\n",
    "            if (guess.substring(i, i + 1).equals(word.substring(i, i + 1))) {\n",
    "                hint += guess.substring(i, i + 1);\n",
    "            } else if (word.indexOf(guess.substring(i, i + 1)) != -1) {\n",
    "                hint += \"+\";\n",
    "            } else {\n",
    "                hint += \"*\";\n",
    "            }\n",
    "        }\n",
    "        return hint;\n",
    "    }\n",
    "\n",
    "    public static void main(String[] args) {\n",
    "        HiddenWord puzzle = new HiddenWord(\"HARPS\");\n",
    "        Scanner scanner = new Scanner(System.in);\n",
    "\n",
    "        System.out.println(\"LETS PLAY THE GAME..\");\n",
    "        System.out.println(\"GUESS THE HIDDEN WORD. (all caps, 5 letters):\");\n",
    "\n",
    "        boolean guessedCorrectly = false;\n",
    "        while (!guessedCorrectly) {\n",
    "            System.out.print(\"Enter your guess: \");\n",
    "            String guess = scanner.nextLine();\n",
    "\n",
    "            String hint = puzzle.getHint(guess);\n",
    "            System.out.println(\"Hint: \" + hint);\n",
    "\n",
    "            if (hint.equals(puzzle.word)) {\n",
    "                System.out.println(\"CONGRATS! You've guessed the word!\");\n",
    "                guessedCorrectly = true;\n",
    "            } else {\n",
    "                System.out.println(\"WRONG, TRY AGAIN!\");\n",
    "            }\n",
    "        }\n",
    "        scanner.close();\n",
    "    }\n",
    "}\n",
    "\n",
    "HiddenWord.main(null);"
   ]
  },
  {
   "cell_type": "markdown",
   "metadata": {},
   "source": [
    "This FRQ simply involved creating a Java class with all the necessary components - the main method, constructors, instance variables, all encompassing in one class that the FRQ asked to create. The mainly tricky part of the FRQ was to create the conditional statements to produce either an asterisk or a plus sign based on the guess - I struggled a bit with this and had to reference the internet to figure out how to add three conditional statements. "
   ]
  },
  {
   "cell_type": "code",
   "execution_count": null,
   "metadata": {
    "vscode": {
     "languageId": "java"
    }
   },
   "outputs": [],
   "source": [
    "package com.nighthawk.spring_portfolio.nbapredictor.monte_carlo;\n",
    "\n",
    "public class Player {\n",
    "    private String name;\n",
    "    private PlayerStats stats;\n",
    "\n",
    "    // Getters and setters\n",
    "    public String getName() {\n",
    "        return name;\n",
    "    }\n",
    "\n",
    "    public void setName(String name) {\n",
    "        this.name = name;\n",
    "    }\n",
    "\n",
    "    public PlayerStats getStats() {\n",
    "        return stats;\n",
    "    }\n",
    "\n",
    "    public void setStats(PlayerStats stats) {\n",
    "        this.stats = stats;\n",
    "    }\n",
    "}"
   ]
  },
  {
   "cell_type": "markdown",
   "metadata": {},
   "source": [
    "Throughout our project, we had a lot of implementations of basic Java classes - the above was one. This was the Player.java file, where we initialized the getters and setters for the player object. The anatomy of the class was simple - it was a public class, with private instance variables, along with setters and getters. "
   ]
  }
 ],
 "metadata": {
  "kernelspec": {
   "display_name": "Java",
   "language": "java",
   "name": "java"
  },
  "language_info": {
   "codemirror_mode": "java",
   "file_extension": ".jshell",
   "mimetype": "text/x-java-source",
   "name": "Java",
   "pygments_lexer": "java",
   "version": "16.0.1+9-Ubuntu-120.04"
  }
 },
 "nbformat": 4,
 "nbformat_minor": 2
}
