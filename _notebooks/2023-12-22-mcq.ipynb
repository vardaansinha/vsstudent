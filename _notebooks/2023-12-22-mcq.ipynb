{
 "cells": [
  {
   "cell_type": "markdown",
   "metadata": {},
   "source": [
    "---\n",
    "layout: post\n",
    "title: 2015 MCQ Test\n",
    "toc: true\n",
    "comments: true\n",
    "description: \n",
    "courses: { csa: {week: 15} }\n",
    "type: tangibles\n",
    "---"
   ]
  },
  {
   "cell_type": "markdown",
   "metadata": {},
   "source": [
    "<img src=\"https://github.com/vardaansinha/vsstudent/blob/main/Screenshot%202023-12-22%20090212.png?raw=true\"/>"
   ]
  },
  {
   "cell_type": "markdown",
   "metadata": {},
   "source": [
    "**CHOOSING 5 KEY QUESTIONS TO FOCUS ON**"
   ]
  },
  {
   "cell_type": "markdown",
   "metadata": {},
   "source": [
    "**QUESTION 11**"
   ]
  },
  {
   "cell_type": "code",
   "execution_count": null,
   "metadata": {
    "vscode": {
     "languageId": "java"
    }
   },
   "outputs": [],
   "source": [
    "public static boolean mystery(String str)\n",
    "{\n",
    "String temp = \"\";\n",
    "\n",
    "for (int k = str.length(); k > 0; k--)\n",
    "{\n",
    "temp = temp + str.substring(k - 1, k);\n",
    "}\n",
    "\n",
    "return temp.equals(str);\n",
    "}"
   ]
  },
  {
   "cell_type": "markdown",
   "metadata": {},
   "source": [
    "Which of the following calls to mystery will return true ?\n",
    "Select one:\n",
    "<br>\n",
    "a. mystery(\"no\")\n",
    "<br>\n",
    "b. mystery(\"on\")\n",
    "<br>\n",
    "c. mystery(\"nnoo\")\n",
    "<br>\n",
    "d. mystery(\"nono\")\n",
    "<br>\n",
    "e. mystery(\"noon\")\n",
    "<br>"
   ]
  },
  {
   "cell_type": "markdown",
   "metadata": {},
   "source": [
    "I selected \"A.\" This would be the wrong answer, since the opposite of \"no\" is \"on,\" and those two strings are not equal to each other. The correct answer would be \"E\" because only a word spelled backwards and forwards the same would return a boolean value of \"true\" and that would be noon."
   ]
  },
  {
   "cell_type": "markdown",
   "metadata": {},
   "source": [
    "**QUESTION 12**"
   ]
  },
  {
   "cell_type": "markdown",
   "metadata": {},
   "source": [
    "(x && y) && !(x || y)\n",
    "<br>\n",
    "Which of the following best describes the result of evaluating the expression above?\n",
    "<br>\n",
    "a. true always\n",
    "<br>\n",
    "b. false always\n",
    "<br>\n",
    "c. true only when x is true and y is true\n",
    "<br>\n",
    "d. true only when x and y have the same value\n",
    "<br>\n",
    "e. true only when x and y have different values\n",
    "<br>"
   ]
  },
  {
   "cell_type": "markdown",
   "metadata": {},
   "source": [
    "I selected option \"D,\" since I thought the && would have meant that both values have to be the same to evaluate true. However, evaluating the expression will actually bring false always, as per De Morgan's Law (learned about in class), especially because of the second half of the statement with the ! (means not)."
   ]
  },
  {
   "cell_type": "markdown",
   "metadata": {},
   "source": [
    "**QUESTION 13**"
   ]
  },
  {
   "cell_type": "code",
   "execution_count": null,
   "metadata": {
    "vscode": {
     "languageId": "java"
    }
   },
   "outputs": [],
   "source": [
    "private int[] numbers;\n",
    "public void mystery(int x)\n",
    "{\n",
    "    for (int k = 1; k < numbers.length; k = k + x)\n",
    "    {\n",
    "        numbers[k] = numbers[k - 1] + x;\n",
    "    }\n",
    "}"
   ]
  },
  {
   "cell_type": "markdown",
   "metadata": {},
   "source": [
    "Assume that numbers has been initialized with the following values.\n",
    "\n",
    "{17, 34, 21, 42, 15, 69, 48, 25, 39}\n",
    "\n",
    "Which of the following represents the order of the values in numbers as a result of the call mystery(3)?\n",
    "<br>\n",
    "a. {17, 20, 21, 42, 45, 69, 48, 51, 39}\n",
    "<br>\n",
    "b. {17, 20, 23, 26, 29, 32, 35, 38, 41}\n",
    "<br>\n",
    "c. {17, 37, 21, 42, 18, 69, 48, 28, 39}\n",
    "<br>\n",
    "d. {20, 23, 21, 42, 45, 69, 51, 54, 39}\n",
    "<br>\n",
    "e. {20, 34, 21, 45, 15, 69, 51, 25, 39}\n",
    "<br>"
   ]
  },
  {
   "cell_type": "markdown",
   "metadata": {},
   "source": [
    "I selected option D, as I thought that we would have to start with the third element (21) and subtract 1, which would be 20. This is incorrect, however. The correct option is Option A, as the first pass starts at position 1, as indicated in the four loop. That is 34. So, 17 remains the first number at position 0. Then it keeps going similarly."
   ]
  },
  {
   "cell_type": "markdown",
   "metadata": {},
   "source": [
    "**QUESTION 15**"
   ]
  },
  {
   "cell_type": "code",
   "execution_count": null,
   "metadata": {
    "vscode": {
     "languageId": "java"
    }
   },
   "outputs": [],
   "source": [
    "public static void showMe(int arg)\n",
    "{\n",
    "    if (arg < 10)\n",
    "    {\n",
    "        showMe(arg + 1);\n",
    "    }\n",
    "    else\n",
    "    {\n",
    "        System.out.print(arg + \" \");\n",
    "    }\n",
    "}\n"
   ]
  },
  {
   "cell_type": "markdown",
   "metadata": {},
   "source": [
    "What will be printed as a result of the call showMe(0)?\n",
    "Select one:\n",
    "<br>\n",
    "a. 10\n",
    "<br>\n",
    "b. 11\n",
    "<br>\n",
    "c. 0 1 2 3 4 5 6 7 8 9\n",
    "<br>\n",
    "d. 9 8 7 6 5 4 3 2 1 0\n",
    "<br>\n",
    "e. 0 1 2 3 4 5 6 7 8 9 10\n",
    "<br>\n"
   ]
  },
  {
   "cell_type": "markdown",
   "metadata": {},
   "source": [
    "This was a careless mistake - I put option E, but I failed to realize that this was a recursive call - so nothing would even be printed out before arg is not less than 10, so it would just be option A."
   ]
  },
  {
   "cell_type": "markdown",
   "metadata": {},
   "source": [
    "**QUESTION 27**"
   ]
  },
  {
   "cell_type": "code",
   "execution_count": null,
   "metadata": {
    "vscode": {
     "languageId": "java"
    }
   },
   "outputs": [],
   "source": [
    "public static void sort(int[] data)\n",
    "{\n",
    "for (int j = 0; j < data.length - 1; j++)\n",
    "{\n",
    "int m = j;\n",
    "for (int k = j + 1; k < data.length; k++)\n",
    "{\n",
    "if (data[k] < data[m]) // Compare values //\n",
    "{\n",
    "m = k;\n",
    "}\n",
    "}\n",
    "int temp = data[m]; // Assign to temp //\n",
    "data[m] = data[j];\n",
    "data[j] = temp;\n",
    "\n",
    "// End of outer loop //\n",
    "}\n",
    "}"
   ]
  },
  {
   "cell_type": "markdown",
   "metadata": {},
   "source": [
    "Assume that sort is called with the array {6, 3, 2, 5, 4, 1}. What will the value of data be after three passes of the outer loop (i.e., when j = 2 at the point indicated by / * End of outer loop * /) ?\n",
    "<br>\n",
    "a. {1, 2, 3, 4, 5, 6}\n",
    "<br>\n",
    "b. {1, 2, 3, 5, 4, 6}\n",
    "<br>\n",
    "c. {1, 2, 3, 6, 5, 4}\n",
    "<br>\n",
    "d. {1, 3, 2, 4, 5, 6}\n",
    "<br>\n",
    "e. {1, 3, 2, 5, 4, 6}\n",
    "<br>\n",
    "\n",
    "\n",
    "I selected Option A, which is incorrect, as there is a swap occurring. However, the swap occurs after the inner loop goes through a full iteration through the array. The correct answer is b: {1, 2, 3, 5, 4, 6}\n",
    "\n",
    "The outer for loop loops through the entire array comparing left to right comparing the current number (outer loop) to the next number (inner loop) Swap does not occur till inner loop completes one full iteration through the array. The variable \"m\" holds the smallest number's index, and swaps it, creating option B, which is the correct answer.\n",
    "\n"
   ]
  },
  {
   "cell_type": "markdown",
   "metadata": {},
   "source": [
    "**KEY LEARNINGS & DISCOVERIES**"
   ]
  },
  {
   "cell_type": "markdown",
   "metadata": {},
   "source": [
    "I need a lot more practice with the following concepts:\n",
    "\n",
    "1. De Morgan's Law\n",
    "\n",
    "2. Arrays & ArrayLists\n",
    "\n",
    "3. More Complex Loops\n",
    "\n",
    "\n",
    "The rest of the mistakes I made on this test were careless. I feel that a 30/39 is not bad, but does not accurately reflect my skillset - I can definitely score higher if I focus up and master De Morgan's law especially."
   ]
  },
  {
   "cell_type": "markdown",
   "metadata": {},
   "source": [
    "**JOURNEY**"
   ]
  },
  {
   "cell_type": "markdown",
   "metadata": {},
   "source": [
    "Last trimester, during the MCQ Quiz, I also had trouble with De Morgan's Law problems, so it is a continuing problem that I need to address. "
   ]
  }
 ],
 "metadata": {
  "language_info": {
   "name": "python"
  }
 },
 "nbformat": 4,
 "nbformat_minor": 2
}
