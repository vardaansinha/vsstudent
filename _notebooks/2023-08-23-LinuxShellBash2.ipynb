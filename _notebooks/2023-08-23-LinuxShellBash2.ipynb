{
 "cells": [
  {
   "attachments": {},
   "cell_type": "markdown",
   "metadata": {},
   "source": [
    "---\n",
    "comments: true\n",
    "layout: post\n",
    "title: Linux Shell and Bash 2\n",
    "description: The key understandings of Linux shell and bash\n",
    "type: tangibles\n",
    "courses: { csa: {week: 0} }\n",
    "---"
   ]
  },
  {
   "cell_type": "code",
   "execution_count": 1,
   "metadata": {},
   "outputs": [
    {
     "name": "stdout",
     "output_type": "stream",
     "text": [
      "Python is installed.\n",
      "Python Version:\n",
      "Python 3.9.12\n"
     ]
    }
   ],
   "source": [
    "%%script bash\n",
    "\n",
    "if which python &> /dev/null; then\n",
    "    echo \"Python is installed.\"\n",
    "    echo \"Python Version:\"\n",
    "    python --version\n",
    "else\n",
    "    echo \"Python is not installed.\"\n",
    "fi\n"
   ]
  },
  {
   "cell_type": "code",
   "execution_count": 2,
   "metadata": {},
   "outputs": [
    {
     "name": "stdout",
     "output_type": "stream",
     "text": [
      "Java Version\n",
      "openjdk 11.0.20 2023-07-18\n",
      "OpenJDK Runtime Environment (build 11.0.20+8-post-Ubuntu-1ubuntu120.04)\n",
      "OpenJDK 64-Bit Server VM (build 11.0.20+8-post-Ubuntu-1ubuntu120.04, mixed mode, sharing)\n"
     ]
    }
   ],
   "source": [
    "%%script bash\n",
    "\n",
    "if which python &> /dev/null\n",
    "then\n",
    "    echo \"Java Version\"\n",
    "    java --version\n",
    "else\n",
    "    echo \"Java is not installed.\"\n",
    "fi "
   ]
  },
  {
   "cell_type": "code",
   "execution_count": 3,
   "metadata": {},
   "outputs": [
    {
     "name": "stdout",
     "output_type": "stream",
     "text": [
      "Jupyter Core Packages:\n",
      "Selected Jupyter core packages...\n",
      "IPython          : 8.2.0\n",
      "ipykernel        : 6.9.1\n",
      "ipywidgets       : 7.6.5\n",
      "jupyter_client   : 6.1.12\n",
      "jupyter_core     : 4.9.2\n",
      "jupyter_server   : 1.13.5\n",
      "jupyterlab       : 3.3.2\n",
      "nbclient         : 0.5.13\n",
      "nbconvert        : 6.4.4\n",
      "nbformat         : 5.3.0\n",
      "notebook         : 6.4.8\n",
      "qtconsole        : 5.3.0\n",
      "traitlets        : 5.1.1\n"
     ]
    }
   ],
   "source": [
    "%%script bash\n",
    "\n",
    "if which python &> /dev/null\n",
    "then\n",
    "    echo \"Jupyter Core Packages:\"\n",
    "    jupyter --version\n",
    "else\n",
    "    echo \"Jupyter is not installed.\"\n",
    "fi "
   ]
  },
  {
   "cell_type": "code",
   "execution_count": 4,
   "metadata": {},
   "outputs": [
    {
     "name": "stdout",
     "output_type": "stream",
     "text": [
      "SHELL=/bin/bash\n",
      "PYTHONUNBUFFERED=1\n",
      "CONDA_EXE=/home/vardaan/anaconda3/bin/conda\n",
      "_CE_M=\n",
      "APPLICATION_INSIGHTS_NO_DIAGNOSTIC_CHANNEL=1\n",
      "WSL_DISTRO_NAME=Ubuntu\n",
      "ELECTRON_RUN_AS_NODE=1\n",
      "VSCODE_AMD_ENTRYPOINT=vs/workbench/api/node/extensionHostProcess\n",
      "NAME=Code\n",
      "PWD=/home/vardaan/vscode/vsstudent/_notebooks\n",
      "LOGNAME=vardaan\n",
      "CONDA_ROOT=/home/vardaan/anaconda3\n",
      "CONDA_PREFIX=/home/vardaan/anaconda3\n",
      "PYDEVD_IPYTHON_COMPATIBLE_DEBUGGING=1\n",
      "_=/usr/bin/env\n",
      "MOTD_SHOWN=update-motd\n",
      "HOME=/home/vardaan\n",
      "LANG=C.UTF-8\n",
      "WSL_INTEROP=/run/WSL/896_interop\n",
      "LS_COLORS=rs=0:di=01;34:ln=01;36:mh=00:pi=40;33:so=01;35:do=01;35:bd=40;33;01:cd=40;33;01:or=40;31;01:mi=00:su=37;41:sg=30;43:ca=30;41:tw=30;42:ow=34;42:st=37;44:ex=01;32:*.tar=01;31:*.tgz=01;31:*.arc=01;31:*.arj=01;31:*.taz=01;31:*.lha=01;31:*.lz4=01;31:*.lzh=01;31:*.lzma=01;31:*.tlz=01;31:*.txz=01;31:*.tzo=01;31:*.t7z=01;31:*.zip=01;31:*.z=01;31:*.dz=01;31:*.gz=01;31:*.lrz=01;31:*.lz=01;31:*.lzo=01;31:*.xz=01;31:*.zst=01;31:*.tzst=01;31:*.bz2=01;31:*.bz=01;31:*.tbz=01;31:*.tbz2=01;31:*.tz=01;31:*.deb=01;31:*.rpm=01;31:*.jar=01;31:*.war=01;31:*.ear=01;31:*.sar=01;31:*.rar=01;31:*.alz=01;31:*.ace=01;31:*.zoo=01;31:*.cpio=01;31:*.7z=01;31:*.rz=01;31:*.cab=01;31:*.wim=01;31:*.swm=01;31:*.dwm=01;31:*.esd=01;31:*.jpg=01;35:*.jpeg=01;35:*.mjpg=01;35:*.mjpeg=01;35:*.gif=01;35:*.bmp=01;35:*.pbm=01;35:*.pgm=01;35:*.ppm=01;35:*.tga=01;35:*.xbm=01;35:*.xpm=01;35:*.tif=01;35:*.tiff=01;35:*.png=01;35:*.svg=01;35:*.svgz=01;35:*.mng=01;35:*.pcx=01;35:*.mov=01;35:*.mpg=01;35:*.mpeg=01;35:*.m2v=01;35:*.mkv=01;35:*.webm=01;35:*.ogm=01;35:*.mp4=01;35:*.m4v=01;35:*.mp4v=01;35:*.vob=01;35:*.qt=01;35:*.nuv=01;35:*.wmv=01;35:*.asf=01;35:*.rm=01;35:*.rmvb=01;35:*.flc=01;35:*.avi=01;35:*.fli=01;35:*.flv=01;35:*.gl=01;35:*.dl=01;35:*.xcf=01;35:*.xwd=01;35:*.yuv=01;35:*.cgm=01;35:*.emf=01;35:*.ogv=01;35:*.ogx=01;35:*.aac=00;36:*.au=00;36:*.flac=00;36:*.m4a=00;36:*.mid=00;36:*.midi=00;36:*.mka=00;36:*.mp3=00;36:*.mpc=00;36:*.ogg=00;36:*.ra=00;36:*.wav=00;36:*.oga=00;36:*.opus=00;36:*.spx=00;36:*.xspf=00;36:\n",
      "WAYLAND_DISPLAY=wayland-0\n",
      "CONDA_PROMPT_MODIFIER=(base) \n",
      "PYDEVD_USE_FRAME_EVAL=NO\n",
      "CLICOLOR=1\n",
      "VSCODE_L10N_BUNDLE_LOCATION=\n",
      "GEM_HOME=/home/vardaan/gems\n",
      "LESSCLOSE=/usr/bin/lesspipe %s %s\n",
      "VSCODE_HANDLES_SIGPIPE=true\n",
      "TERM=xterm-color\n",
      "_CE_CONDA=\n",
      "LESSOPEN=| /usr/bin/lesspipe %s\n",
      "USER=vardaan\n",
      "GIT_PAGER=cat\n",
      "PYTHONIOENCODING=utf-8\n",
      "CONDA_SHLVL=1\n",
      "DISPLAY=:0\n",
      "SHLVL=3\n",
      "PAGER=cat\n",
      "VSCODE_CWD=/mnt/c/Users/vards/AppData/Local/Programs/Microsoft VS Code\n",
      "MPLBACKEND=module://matplotlib_inline.backend_inline\n",
      "CONDA_PYTHON_EXE=/home/vardaan/anaconda3/bin/python\n",
      "XDG_RUNTIME_DIR=/mnt/wslg/runtime-dir\n",
      "CONDA_DEFAULT_ENV=base\n",
      "WSLENV=ELECTRON_RUN_AS_NODE/w:\n",
      "\n",
      "VSCODE_WSL_EXT_LOCATION=/mnt/c/Users/vards/.vscode/extensions/ms-vscode-remote.remote-wsl-0.79.5\n",
      "XDG_DATA_DIRS=/usr/local/share:/usr/share:/var/lib/snapd/desktop\n",
      "PATH=/home/vardaan/anaconda3/bin:/home/vardaan/.local/bin:/home/vardaan/gems/bin:/home/vardaan/gems/bin:/home/vardaan/gems/bin:/home/vardaan/anaconda3/bin:/home/vardaan/anaconda3/condabin:/usr/local/sbin:/usr/local/bin:/usr/sbin:/usr/bin:/sbin:/bin:/usr/games:/usr/local/games:/usr/lib/wsl/lib:/mnt/c/Program Files (x86)/Mail Enable/BIN:/mnt/c/WINDOWS/system32:/mnt/c/WINDOWS:/mnt/c/WINDOWS/System32/Wbem:/mnt/c/WINDOWS/System32/WindowsPowerShell/v1.0:/mnt/c/WINDOWS/System32/OpenSSH:/mnt/c/Program Files/Git/cmd:/mnt/c/Program Files/Docker/Docker/resources/bin:/mnt/c/Program Files (x86)/Mail Enable/BIN64:/mnt/c/Users/vards/AppData/Local/Microsoft/WindowsApps:/mnt/c/Users/vards/AppData/Local/Programs/Microsoft VS Code/bin:/snap/bin\n",
      "VSCODE_NLS_CONFIG={\"locale\":\"en\",\"osLocale\":\"en\",\"availableLanguages\":{}}\n",
      "HOSTTYPE=x86_64\n",
      "PULSE_SERVER=/mnt/wslg/PulseServer\n",
      "VSCODE_HANDLES_UNCAUGHT_ERRORS=true\n",
      "VSCODE_IPC_HOOK_CLI=/mnt/wslg/runtime-dir/vscode-ipc-e3aa1971-6d45-4260-896d-a5f0261d2515.sock\n"
     ]
    }
   ],
   "source": [
    "%%bash\n",
    "\n",
    "env"
   ]
  },
  {
   "attachments": {},
   "cell_type": "markdown",
   "metadata": {},
   "source": [
    "**TOP 5 MOST USED LINUX COMMANDS**:\n",
    "\n",
    "1. cd\n",
    "  - cd stands for \"change directory\"\n",
    "  - This is often used via WSL to switch between repositories and directories within repositories to access different files\n",
    "\n",
    "2. ls\n",
    "  - ls is Linux's primary listing method\n",
    "  - Through ls (and it's many additional parameter extensions) you can list the files in a particular directory\n",
    "  - You can add certain parameters after ls to show hidden files or certain types of file extensions\n",
    "\n",
    "3. cat\n",
    "  - This is more often going to be used when working in the AWS environment\n",
    "  - The command is used to gather the full body of a file and display it in a terminal rather than having to go into a text editor to view it\n",
    "\n",
    "4. sudo\n",
    "  - More than a command, this can be considered a precursor to all the commands you run on Linux when you are a primary editor\n",
    "  - sudo denotes giving yourself root permissions to perform certain actions on your system which a standard user is unable to\n",
    "\n",
    "5. mkdir and touch\n",
    "  - If you need to make a new directory inside of a repository - mkdir is utilized\n",
    "  - If you want to create a new file, you can utilize the touch command inside of the repository you wish to create a file in"
   ]
  },
  {
   "attachments": {},
   "cell_type": "markdown",
   "metadata": {},
   "source": [
    "**Updating a Repository** (note: This is not going to work in this notebook because of the location that this file is in, but it can be used via WSL)"
   ]
  },
  {
   "cell_type": "code",
   "execution_count": null,
   "metadata": {},
   "outputs": [],
   "source": [
    "%%bash\n",
    "\n",
    "cd /your/gh/repository\n",
    "\n",
    "git pull origin master\n",
    "\n",
    "echo \"Job complete.\""
   ]
  },
  {
   "attachments": {},
   "cell_type": "markdown",
   "metadata": {},
   "source": [
    "**SIMPLE BASH SCRIPT TO LOOP THROUGH THE DIRECTORY AND CHECK FOR CERTAIN FILE EXTENSIONS.**"
   ]
  },
  {
   "cell_type": "code",
   "execution_count": 5,
   "metadata": {},
   "outputs": [
    {
     "name": "stdout",
     "output_type": "stream",
     "text": [
      "Files with .ipynb extension:\n",
      "./2023-08-22-LinuxShellBash.ipynb\n",
      "./2023-08-22-JavaNotebookIntro.ipynb\n",
      "./2023-08-23-LinuxShellBash2.ipynb\n",
      "\n",
      "Files with .csv extension:\n",
      "\n",
      "Files with .jpg extension:\n",
      "\n",
      "Files with .pdf extension:\n",
      "./jimmyjohn.pdf\n",
      "\n"
     ]
    }
   ],
   "source": [
    "%%bash\n",
    "\n",
    "# Checks for certain file extensions (some may be found, some not :))\n",
    "file_extensions=(\"ipynb\" \"csv\" \"jpg\" \"pdf\")\n",
    "\n",
    "# No directory specified - SOO, it will check through the local directory (the notebooks folder in this case.)\n",
    "for extension in \"${file_extensions[@]}\"; do\n",
    "    echo \"Files with .$extension extension:\"\n",
    "    find . -type f -name \"*.$extension\"\n",
    "    echo\n",
    "done"
   ]
  },
  {
   "attachments": {},
   "cell_type": "markdown",
   "metadata": {},
   "source": [
    "**The above script was partially inspired by something that I have done while competing in cybersecurity competitions.**\n",
    "\n",
    "There are often many insecure file types in a certain business environment, and when competing on a Linux box, I have written scripts to check for these certain file types to search across an entire system. Searching manually takes too much time and is not at all effective, which is why this excerpt of a shellscript is very useful."
   ]
  }
 ],
 "metadata": {
  "kernelspec": {
   "display_name": "base",
   "language": "python",
   "name": "python3"
  },
  "language_info": {
   "codemirror_mode": {
    "name": "ipython",
    "version": 3
   },
   "file_extension": ".py",
   "mimetype": "text/x-python",
   "name": "python",
   "nbconvert_exporter": "python",
   "pygments_lexer": "ipython3",
   "version": "3.9.12"
  },
  "orig_nbformat": 4
 },
 "nbformat": 4,
 "nbformat_minor": 2
}
